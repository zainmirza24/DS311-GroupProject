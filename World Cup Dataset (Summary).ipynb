{
 "cells": [
  {
   "cell_type": "code",
   "execution_count": 27,
   "id": "c30259f4",
   "metadata": {},
   "outputs": [],
   "source": [
    "import pandas as pd\n",
    "import numpy as np\n",
    "\n",
    "df = pd.read_csv('/Users/Mirzafamily/Desktop/DS311-Group-Project-Documentation/sport/fifa_worldcup.csv')"
   ]
  },
  {
   "cell_type": "code",
   "execution_count": 13,
   "id": "c8beac4d",
   "metadata": {},
   "outputs": [
    {
     "name": "stdout",
     "output_type": "stream",
     "text": [
      "home_team_goalkeeper_score\n",
      "15542\n",
      "\n",
      "away_team_goalkeeper_score\n",
      "15826\n",
      "\n",
      "home_team_mean_defense_score\n",
      "16134\n",
      "\n",
      "home_team_mean_offense_score\n",
      "15411\n",
      "\n",
      "home_team_mean_midfield_score\n",
      "15759\n",
      "\n",
      "away_team_mean_defense_score\n",
      "16357\n",
      "\n",
      "away_team_mean_offense_score\n",
      "15609\n",
      "\n",
      "away_team_mean_midfield_score\n",
      "15942\n",
      "\n"
     ]
    }
   ],
   "source": [
    "#NA Report\n",
    "ls = list(df.columns)\n",
    "for x in ls:\n",
    "  if sum(df[x].isna()) > 0:\n",
    "    print(x)\n",
    "    print(sum(df[x].isna()))\n",
    "    print()"
   ]
  },
  {
   "cell_type": "code",
   "execution_count": 15,
   "id": "f0b22e75",
   "metadata": {},
   "outputs": [
    {
     "name": "stdout",
     "output_type": "stream",
     "text": [
      "<class 'pandas.core.frame.DataFrame'>\n",
      "RangeIndex: 23921 entries, 0 to 23920\n",
      "Data columns (total 25 columns):\n",
      " #   Column                         Non-Null Count  Dtype  \n",
      "---  ------                         --------------  -----  \n",
      " 0   date                           23921 non-null  object \n",
      " 1   home_team                      23921 non-null  object \n",
      " 2   away_team                      23921 non-null  object \n",
      " 3   home_team_continent            23921 non-null  object \n",
      " 4   away_team_continent            23921 non-null  object \n",
      " 5   home_team_fifa_rank            23921 non-null  int64  \n",
      " 6   away_team_fifa_rank            23921 non-null  int64  \n",
      " 7   home_team_total_fifa_points    23921 non-null  int64  \n",
      " 8   away_team_total_fifa_points    23921 non-null  int64  \n",
      " 9   home_team_score                23921 non-null  int64  \n",
      " 10  away_team_score                23921 non-null  int64  \n",
      " 11  tournament                     23921 non-null  object \n",
      " 12  city                           23921 non-null  object \n",
      " 13  country                        23921 non-null  object \n",
      " 14  neutral_location               23921 non-null  bool   \n",
      " 15  shoot_out                      23921 non-null  object \n",
      " 16  home_team_result               23921 non-null  object \n",
      " 17  home_team_goalkeeper_score     8379 non-null   float64\n",
      " 18  away_team_goalkeeper_score     8095 non-null   float64\n",
      " 19  home_team_mean_defense_score   7787 non-null   float64\n",
      " 20  home_team_mean_offense_score   8510 non-null   float64\n",
      " 21  home_team_mean_midfield_score  8162 non-null   float64\n",
      " 22  away_team_mean_defense_score   7564 non-null   float64\n",
      " 23  away_team_mean_offense_score   8312 non-null   float64\n",
      " 24  away_team_mean_midfield_score  7979 non-null   float64\n",
      "dtypes: bool(1), float64(8), int64(6), object(10)\n",
      "memory usage: 4.4+ MB\n"
     ]
    }
   ],
   "source": [
    "df.info()"
   ]
  },
  {
   "cell_type": "code",
   "execution_count": 33,
   "id": "236c49f5",
   "metadata": {},
   "outputs": [
    {
     "data": {
      "text/plain": [
       "neutral_location\n",
       "False    17947\n",
       "True      5974\n",
       "Name: country, dtype: int64"
      ]
     },
     "execution_count": 33,
     "metadata": {},
     "output_type": "execute_result"
    }
   ],
   "source": [
    "df.groupby('neutral_location')['country'].count() #T/F games played in neutral location "
   ]
  },
  {
   "cell_type": "markdown",
   "id": "2188f1a8",
   "metadata": {},
   "source": [
    "## Away teams with their corresponding average away defense score"
   ]
  },
  {
   "cell_type": "code",
   "execution_count": 82,
   "id": "d3e9abc5",
   "metadata": {},
   "outputs": [
    {
     "data": {
      "text/html": [
       "<div>\n",
       "<style scoped>\n",
       "    .dataframe tbody tr th:only-of-type {\n",
       "        vertical-align: middle;\n",
       "    }\n",
       "\n",
       "    .dataframe tbody tr th {\n",
       "        vertical-align: top;\n",
       "    }\n",
       "\n",
       "    .dataframe thead th {\n",
       "        text-align: right;\n",
       "    }\n",
       "</style>\n",
       "<table border=\"1\" class=\"dataframe\">\n",
       "  <thead>\n",
       "    <tr style=\"text-align: right;\">\n",
       "      <th></th>\n",
       "      <th>away_team_mean_defense_score</th>\n",
       "    </tr>\n",
       "    <tr>\n",
       "      <th>away_team</th>\n",
       "      <th></th>\n",
       "    </tr>\n",
       "  </thead>\n",
       "  <tbody>\n",
       "    <tr>\n",
       "      <th>Afghanistan</th>\n",
       "      <td>NaN</td>\n",
       "    </tr>\n",
       "    <tr>\n",
       "      <th>Albania</th>\n",
       "      <td>72.511905</td>\n",
       "    </tr>\n",
       "    <tr>\n",
       "      <th>Algeria</th>\n",
       "      <td>74.587179</td>\n",
       "    </tr>\n",
       "    <tr>\n",
       "      <th>American Samoa</th>\n",
       "      <td>NaN</td>\n",
       "    </tr>\n",
       "    <tr>\n",
       "      <th>Andorra</th>\n",
       "      <td>NaN</td>\n",
       "    </tr>\n",
       "    <tr>\n",
       "      <th>...</th>\n",
       "      <td>...</td>\n",
       "    </tr>\n",
       "    <tr>\n",
       "      <th>Vietnam</th>\n",
       "      <td>NaN</td>\n",
       "    </tr>\n",
       "    <tr>\n",
       "      <th>Wales</th>\n",
       "      <td>74.796053</td>\n",
       "    </tr>\n",
       "    <tr>\n",
       "      <th>Yemen</th>\n",
       "      <td>NaN</td>\n",
       "    </tr>\n",
       "    <tr>\n",
       "      <th>Zambia</th>\n",
       "      <td>NaN</td>\n",
       "    </tr>\n",
       "    <tr>\n",
       "      <th>Zimbabwe</th>\n",
       "      <td>62.638235</td>\n",
       "    </tr>\n",
       "  </tbody>\n",
       "</table>\n",
       "<p>211 rows × 1 columns</p>\n",
       "</div>"
      ],
      "text/plain": [
       "                away_team_mean_defense_score\n",
       "away_team                                   \n",
       "Afghanistan                              NaN\n",
       "Albania                            72.511905\n",
       "Algeria                            74.587179\n",
       "American Samoa                           NaN\n",
       "Andorra                                  NaN\n",
       "...                                      ...\n",
       "Vietnam                                  NaN\n",
       "Wales                              74.796053\n",
       "Yemen                                    NaN\n",
       "Zambia                                   NaN\n",
       "Zimbabwe                           62.638235\n",
       "\n",
       "[211 rows x 1 columns]"
      ]
     },
     "execution_count": 82,
     "metadata": {},
     "output_type": "execute_result"
    }
   ],
   "source": [
    "awayd = df.groupby('away_team')['away_team_mean_defense_score'].mean() \n",
    "df_away =awayd.to_frame() #Series to Dataframe"
   ]
  },
  {
   "cell_type": "markdown",
   "id": "8d572487",
   "metadata": {},
   "source": [
    "# Top 10"
   ]
  },
  {
   "cell_type": "code",
   "execution_count": 93,
   "id": "1c30c4a7",
   "metadata": {},
   "outputs": [
    {
     "data": {
      "text/html": [
       "<div>\n",
       "<style scoped>\n",
       "    .dataframe tbody tr th:only-of-type {\n",
       "        vertical-align: middle;\n",
       "    }\n",
       "\n",
       "    .dataframe tbody tr th {\n",
       "        vertical-align: top;\n",
       "    }\n",
       "\n",
       "    .dataframe thead th {\n",
       "        text-align: right;\n",
       "    }\n",
       "</style>\n",
       "<table border=\"1\" class=\"dataframe\">\n",
       "  <thead>\n",
       "    <tr style=\"text-align: right;\">\n",
       "      <th></th>\n",
       "      <th>away_team_mean_defense_score</th>\n",
       "    </tr>\n",
       "    <tr>\n",
       "      <th>away_team</th>\n",
       "      <th></th>\n",
       "    </tr>\n",
       "  </thead>\n",
       "  <tbody>\n",
       "    <tr>\n",
       "      <th>Brazil</th>\n",
       "      <td>86.086364</td>\n",
       "    </tr>\n",
       "    <tr>\n",
       "      <th>Spain</th>\n",
       "      <td>85.427193</td>\n",
       "    </tr>\n",
       "    <tr>\n",
       "      <th>Italy</th>\n",
       "      <td>85.124742</td>\n",
       "    </tr>\n",
       "    <tr>\n",
       "      <th>Germany</th>\n",
       "      <td>84.671429</td>\n",
       "    </tr>\n",
       "    <tr>\n",
       "      <th>England</th>\n",
       "      <td>84.640426</td>\n",
       "    </tr>\n",
       "    <tr>\n",
       "      <th>France</th>\n",
       "      <td>84.132258</td>\n",
       "    </tr>\n",
       "    <tr>\n",
       "      <th>Argentina</th>\n",
       "      <td>83.353636</td>\n",
       "    </tr>\n",
       "    <tr>\n",
       "      <th>Portugal</th>\n",
       "      <td>82.896154</td>\n",
       "    </tr>\n",
       "    <tr>\n",
       "      <th>Belgium</th>\n",
       "      <td>81.153409</td>\n",
       "    </tr>\n",
       "    <tr>\n",
       "      <th>Netherlands</th>\n",
       "      <td>80.681250</td>\n",
       "    </tr>\n",
       "  </tbody>\n",
       "</table>\n",
       "</div>"
      ],
      "text/plain": [
       "             away_team_mean_defense_score\n",
       "away_team                                \n",
       "Brazil                          86.086364\n",
       "Spain                           85.427193\n",
       "Italy                           85.124742\n",
       "Germany                         84.671429\n",
       "England                         84.640426\n",
       "France                          84.132258\n",
       "Argentina                       83.353636\n",
       "Portugal                        82.896154\n",
       "Belgium                         81.153409\n",
       "Netherlands                     80.681250"
      ]
     },
     "execution_count": 93,
     "metadata": {},
     "output_type": "execute_result"
    }
   ],
   "source": [
    "df_away.sort_values(by = 'away_team_mean_defense_score', ascending = False).head(10)"
   ]
  },
  {
   "cell_type": "markdown",
   "id": "cda4a2b4",
   "metadata": {},
   "source": [
    "# Home"
   ]
  },
  {
   "cell_type": "code",
   "execution_count": 94,
   "id": "9d92a954",
   "metadata": {},
   "outputs": [],
   "source": [
    "homed = df.groupby('home_team')['home_team_mean_defense_score'].mean() \n",
    "df_home = homed.to_frame() #Series to Dataframe"
   ]
  },
  {
   "cell_type": "code",
   "execution_count": 97,
   "id": "df548590",
   "metadata": {},
   "outputs": [
    {
     "data": {
      "text/html": [
       "<div>\n",
       "<style scoped>\n",
       "    .dataframe tbody tr th:only-of-type {\n",
       "        vertical-align: middle;\n",
       "    }\n",
       "\n",
       "    .dataframe tbody tr th {\n",
       "        vertical-align: top;\n",
       "    }\n",
       "\n",
       "    .dataframe thead th {\n",
       "        text-align: right;\n",
       "    }\n",
       "</style>\n",
       "<table border=\"1\" class=\"dataframe\">\n",
       "  <thead>\n",
       "    <tr style=\"text-align: right;\">\n",
       "      <th></th>\n",
       "      <th>home_team_mean_defense_score</th>\n",
       "    </tr>\n",
       "    <tr>\n",
       "      <th>home_team</th>\n",
       "      <th></th>\n",
       "    </tr>\n",
       "  </thead>\n",
       "  <tbody>\n",
       "    <tr>\n",
       "      <th>Brazil</th>\n",
       "      <td>85.785185</td>\n",
       "    </tr>\n",
       "    <tr>\n",
       "      <th>Spain</th>\n",
       "      <td>85.585366</td>\n",
       "    </tr>\n",
       "    <tr>\n",
       "      <th>Italy</th>\n",
       "      <td>84.960902</td>\n",
       "    </tr>\n",
       "    <tr>\n",
       "      <th>England</th>\n",
       "      <td>84.733607</td>\n",
       "    </tr>\n",
       "    <tr>\n",
       "      <th>Germany</th>\n",
       "      <td>84.700694</td>\n",
       "    </tr>\n",
       "    <tr>\n",
       "      <th>France</th>\n",
       "      <td>84.047887</td>\n",
       "    </tr>\n",
       "    <tr>\n",
       "      <th>Portugal</th>\n",
       "      <td>82.887705</td>\n",
       "    </tr>\n",
       "    <tr>\n",
       "      <th>Argentina</th>\n",
       "      <td>82.646721</td>\n",
       "    </tr>\n",
       "    <tr>\n",
       "      <th>Belgium</th>\n",
       "      <td>81.304717</td>\n",
       "    </tr>\n",
       "    <tr>\n",
       "      <th>Netherlands</th>\n",
       "      <td>80.776423</td>\n",
       "    </tr>\n",
       "  </tbody>\n",
       "</table>\n",
       "</div>"
      ],
      "text/plain": [
       "             home_team_mean_defense_score\n",
       "home_team                                \n",
       "Brazil                          85.785185\n",
       "Spain                           85.585366\n",
       "Italy                           84.960902\n",
       "England                         84.733607\n",
       "Germany                         84.700694\n",
       "France                          84.047887\n",
       "Portugal                        82.887705\n",
       "Argentina                       82.646721\n",
       "Belgium                         81.304717\n",
       "Netherlands                     80.776423"
      ]
     },
     "execution_count": 97,
     "metadata": {},
     "output_type": "execute_result"
    }
   ],
   "source": [
    "df_home.sort_values(by = 'home_team_mean_defense_score',ascending = False).head(10)"
   ]
  },
  {
   "cell_type": "markdown",
   "id": "e0f41bc9",
   "metadata": {},
   "source": [
    "# Who's Scored The Most? \n"
   ]
  },
  {
   "cell_type": "code",
   "execution_count": 106,
   "id": "7ed2d068",
   "metadata": {},
   "outputs": [
    {
     "name": "stdout",
     "output_type": "stream",
     "text": [
      "Team that scored the most goals at Home is: USA with 589 goals\n",
      "Team that scored the most goals Away is: Brazil with 396 goals\n",
      "Team that scored the most goals Overall is: Brazil with 954 goals\n",
      "\n",
      "Team that have the highest goals per match at Home is: New Caledonia with 2.6785714285714284 goals\n",
      "Team that have the highest goals per match Away is: Vanuatu with 2.314814814814815 goals\n",
      "Team that have the highest goals per match overall is: New Caledonia with 2.2582046332046333 goals\n"
     ]
    }
   ],
   "source": [
    "def max_goal(type):\n",
    "    if type == \"sum\":\n",
    "        most_goal = pd.DataFrame(df.groupby(['home_team']).sum())\n",
    "        most_goal_a = pd.DataFrame(df.groupby(['away_team']).sum())\n",
    "    if type == \"mean\":\n",
    "        most_goal = pd.DataFrame(df.groupby(['home_team']).mean())\n",
    "        most_goal_a = pd.DataFrame(df.groupby(['away_team']).mean())\n",
    "    most_goal = pd.DataFrame(most_goal.iloc[0:, [4]]).to_numpy()\n",
    "    most_goal_a = pd.DataFrame(most_goal_a.iloc[0:, [5]]).to_numpy()\n",
    "    tot = []\n",
    "    for idx, i in enumerate(most_goal_a):\n",
    "        if type == \"sum\":\n",
    "            tot.append(int(i+most_goal[idx]))\n",
    "        if type == \"mean\":\n",
    "            tot.append(float((i+most_goal[idx])/2))\n",
    "    country = df.groupby('home_team')['home_team'].apply(list)\n",
    "    c = []\n",
    "    for idx, i in enumerate(country):\n",
    "        c.append(i[0])\n",
    "    m_h = max(most_goal)\n",
    "    m_a = max(most_goal_a)\n",
    "    m = max(tot)\n",
    "    j = 0\n",
    "    j_h = 0\n",
    "    j_a = 0\n",
    "    for idx, i in enumerate(c):\n",
    "        if tot[idx] == m:\n",
    "            j = idx\n",
    "        if most_goal[idx] == m_h:\n",
    "            j_h = idx\n",
    "        if most_goal_a[idx] == m_a:\n",
    "            j_a = idx\n",
    "    if type == \"sum\":\n",
    "        print(\"Team that scored the most goals at Home is:\", c[j_h], \"with\", m_h[0], \"goals\")\n",
    "        print(\"Team that scored the most goals Away is:\", c[j_a], \"with\", m_a[0], \"goals\")\n",
    "        print(\"Team that scored the most goals Overall is:\", c[j], \"with\", m, \"goals\")\n",
    "    if type == \"mean\":\n",
    "        print(\"Team that have the highest goals per match at Home is:\", c[j_h], \"with\", m_h[0], \"goals\")\n",
    "        print(\"Team that have the highest goals per match Away is:\", c[j_a], \"with\", m_a[0], \"goals\")\n",
    "        print(\"Team that have the highest goals per match overall is:\", c[j], \"with\", m, \"goals\")\n",
    "    return c\n",
    "\n",
    "def who_scored_the_most_goals():\n",
    "    c = max_goal(\"sum\")\n",
    "    print()\n",
    "    max_goal(\"mean\")\n",
    "    return c\n",
    "\n",
    "c = who_scored_the_most_goals()\n"
   ]
  },
  {
   "cell_type": "markdown",
   "id": "bbf0c3e6",
   "metadata": {},
   "source": [
    "# Who Has Won The Most? "
   ]
  },
  {
   "cell_type": "code",
   "execution_count": 110,
   "id": "4013153e",
   "metadata": {},
   "outputs": [
    {
     "name": "stdout",
     "output_type": "stream",
     "text": [
      "The team who won the most of match is: USA with 194 victory at Home which is 61.78343949044586 % victory\n",
      "The team who won the most of match is: Brazil with 120 victory Away which is 60.0 % victory\n",
      "The team who won the most of match is: Brazil with 301 victory Overall which is 69.5150115473441 % victory\n"
     ]
    }
   ],
   "source": [
    "def who_win_the_most(c, team, score):\n",
    "    global data\n",
    "    win = []\n",
    "    for i in c:\n",
    "        win.append(len(df[(df[team] == i) & (df['home_team_result'] == score)]))\n",
    "    m = max(win)\n",
    "    j = 0\n",
    "    for idx, i in enumerate(win):\n",
    "        if m == i:\n",
    "            j = idx\n",
    "    tot_game = len(df[df[team] == c[j]])\n",
    "    if team == 'home_team':\n",
    "        print(\"The team who won the most of match is:\", c[j], \"with\", m, \"victory at Home which is\", m/tot_game*100, \"% victory\")\n",
    "    if team == 'away_team':\n",
    "        print(\"The team who won the most of match is:\", c[j], \"with\", m, \"victory Away which is\", m/tot_game*100, \"% victory\")\n",
    "    return win\n",
    "\n",
    "\n",
    "def best_country(c):\n",
    "    win_h = who_win_the_most(c, 'home_team', \"Win\")\n",
    "    win_a = who_win_the_most(c, 'away_team', \"Lose\")\n",
    "    win = []\n",
    "    for idx, i in enumerate(win_h):\n",
    "        win.append(i + win_a[idx])\n",
    "    m = max(win)\n",
    "    j = 0\n",
    "    for idx, i in enumerate(win):\n",
    "        if m == i:\n",
    "            j = idx\n",
    "    tot_game = len(df[(df['home_team'] == c[j]) | (df['away_team'] == c[j])])\n",
    "    print(\"The team who won the most of match is:\", c[j], \"with\", m, \"victory Overall which is\", m/tot_game*100, \"% victory\")\n",
    "\n",
    "best_country(c)"
   ]
  },
  {
   "cell_type": "markdown",
   "id": "a9a321bc",
   "metadata": {},
   "source": [
    "# Average Home/Away Country FIFA Rank"
   ]
  },
  {
   "cell_type": "code",
   "execution_count": 112,
   "id": "48b7fb75",
   "metadata": {},
   "outputs": [
    {
     "data": {
      "text/plain": [
       "home_team_fifa_rank    77.854688\n",
       "away_team_fifa_rank    80.797375\n",
       "dtype: float64"
      ]
     },
     "execution_count": 112,
     "metadata": {},
     "output_type": "execute_result"
    }
   ],
   "source": [
    "cols = ['home_team_fifa_rank', 'away_team_fifa_rank']\n",
    "df[cols].mean()"
   ]
  }
 ],
 "metadata": {
  "kernelspec": {
   "display_name": "Python 3 (ipykernel)",
   "language": "python",
   "name": "python3"
  },
  "language_info": {
   "codemirror_mode": {
    "name": "ipython",
    "version": 3
   },
   "file_extension": ".py",
   "mimetype": "text/x-python",
   "name": "python",
   "nbconvert_exporter": "python",
   "pygments_lexer": "ipython3",
   "version": "3.9.7"
  }
 },
 "nbformat": 4,
 "nbformat_minor": 5
}
