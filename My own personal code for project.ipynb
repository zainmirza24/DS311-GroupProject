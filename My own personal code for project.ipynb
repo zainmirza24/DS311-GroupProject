{
 "cells": [
  {
   "cell_type": "code",
   "execution_count": null,
   "id": "7b4860d4",
   "metadata": {},
   "outputs": [],
   "source": [
    "import pandas as pd\n",
    "import numpy as np\n",
    "\n",
    "df = pd.read_csv('/Users/Mirzafamily/Desktop/DS311-Group-Project-Documentation/sport/fifa_worldcup.csv')"
   ]
  },
  {
   "cell_type": "markdown",
   "id": "10c8e939",
   "metadata": {},
   "source": [
    "# Summary"
   ]
  },
  {
   "cell_type": "code",
   "execution_count": null,
   "id": "1175b5c9",
   "metadata": {},
   "outputs": [],
   "source": [
    "#NA Report\n",
    "ls = list(df.columns)\n",
    "for x in ls:\n",
    "  if sum(df[x].isna()) > 0:\n",
    "    print(x)\n",
    "    print(sum(df[x].isna()))\n",
    "    print()"
   ]
  },
  {
   "cell_type": "code",
   "execution_count": null,
   "id": "a847c10a",
   "metadata": {},
   "outputs": [],
   "source": [
    "df.info()"
   ]
  },
  {
   "cell_type": "code",
   "execution_count": null,
   "id": "1f0452d9",
   "metadata": {},
   "outputs": [],
   "source": [
    "df.groupby('neutral_location')['country'].count() #T/F games played in neutral location "
   ]
  },
  {
   "cell_type": "markdown",
   "id": "fe60cc8c",
   "metadata": {},
   "source": [
    "# Away teams with their corresponding average away defense score"
   ]
  },
  {
   "cell_type": "code",
   "execution_count": null,
   "id": "9ed977ec",
   "metadata": {},
   "outputs": [],
   "source": [
    "awayd = df.groupby('away_team')['away_team_mean_defense_score'].mean() \n",
    "df_away =awayd.to_frame() #Series to Dataframe"
   ]
  },
  {
   "cell_type": "markdown",
   "id": "835c7f51",
   "metadata": {},
   "source": [
    "# Top 10\n"
   ]
  },
  {
   "cell_type": "code",
   "execution_count": null,
   "id": "7b0a60dd",
   "metadata": {},
   "outputs": [],
   "source": [
    "df_away.sort_values(by = 'away_team_mean_defense_score', ascending = False).head(10)"
   ]
  },
  {
   "cell_type": "code",
   "execution_count": null,
   "id": "720510d0",
   "metadata": {},
   "outputs": [],
   "source": [
    "homed = df.groupby('home_team')['home_team_mean_defense_score'].mean() \n",
    "df_home = homed.to_frame() #Series to Dataframe"
   ]
  },
  {
   "cell_type": "code",
   "execution_count": null,
   "id": "ddee47b5",
   "metadata": {},
   "outputs": [],
   "source": [
    "df_home.sort_values(by = 'home_team_mean_defense_score',ascending = False).head(10)"
   ]
  }
 ],
 "metadata": {
  "kernelspec": {
   "display_name": "Python 3 (ipykernel)",
   "language": "python",
   "name": "python3"
  },
  "language_info": {
   "codemirror_mode": {
    "name": "ipython",
    "version": 3
   },
   "file_extension": ".py",
   "mimetype": "text/x-python",
   "name": "python",
   "nbconvert_exporter": "python",
   "pygments_lexer": "ipython3",
   "version": "3.9.7"
  }
 },
 "nbformat": 4,
 "nbformat_minor": 5
}
