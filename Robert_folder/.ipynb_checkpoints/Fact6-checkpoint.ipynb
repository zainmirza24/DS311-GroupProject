{
 "cells": [
  {
   "cell_type": "code",
   "execution_count": 25,
   "metadata": {},
   "outputs": [],
   "source": [
    "import pandas as pd\n",
    "import numpy as np\n",
    "from math import *\n",
    "import seaborn as sns\n",
    "from collections import Counter\n",
    "import matplotlib.pyplot as plt\n",
    "\n",
    "# Loading file \n",
    "\n",
    "sport_data_to_load = \"fifa_world_cup.csv\"\n",
    "\n",
    "# Read Sport Data file and store into Pandas Data FRame\n",
    "\n",
    "data = pd.read_csv(sport_data_to_load)\n",
    "\n"
   ]
  },
  {
   "cell_type": "markdown",
   "metadata": {},
   "source": [
    "6- Does the Fifa Ranking really matters ?\n",
    "In this part, we want to know if the Fifa Ranking can really give us information who is more likely to win the game.\n",
    "\n",
    "The outputs can clearly show us that the Ranking can be a good way to see which team will win. We an also see with this code that playing at Home or Away really matters.\n",
    "Win HOME: World class against AWAY: Really Good \t 57.99648506151143\n",
    "Lose HOME: World class against AWAY: Really Good \t 19.507908611599298\n",
    "Draw HOME: World class against AWAY: Really Good \t 22.495606326889277\n",
    "\n",
    "Win HOME: Really Good against AWAY: World class \t 29.282868525896415\n",
    "Lose HOME: Really Good against AWAY: World class \t 42.03187250996016\n",
    "Draw HOME: Really Good against AWAY: World class \t 28.68525896414343\n",
    "\n",
    "We can see that the World Class team have 19% chances to loose at Home but have 29% to loose Away against a Good team."
   ]
  },
  {
   "cell_type": "code",
   "execution_count": 45,
   "metadata": {},
   "outputs": [
    {
     "data": {
      "text/plain": [
       "[[3.389830508474576, 87.57062146892656, 9.03954802259887],\n",
       " [11.643835616438356, 69.86301369863014, 18.493150684931507],\n",
       " [15.139442231075698, 64.14342629482071, 20.717131474103585],\n",
       " [21.07750472589792, 53.96975425330813, 24.95274102079395],\n",
       " [30.887747615553923, 44.16727806309611, 24.944974321349964],\n",
       " [51.4329135909683, 27.0516717325228, 21.5154146765089]]"
      ]
     },
     "execution_count": 45,
     "metadata": {},
     "output_type": "execute_result"
    }
   ],
   "source": [
    "def rank(team1 = None, team2 = None):\n",
    "    r = data.loc[:len(data), ['home_team', 'away_team', 'home_team_fifa_rank', 'away_team_fifa_rank', 'home_team_result']]\n",
    "    bins = [0, 10, 30, 40, 70, 100, 211]\n",
    "    ranking = [\"World class\", \"Really Good\", \"Average\", \"Bad\", \"Really Bad\", \"Worst\"]\n",
    "    r[\"home ranking\"] = pd.cut(x=data['home_team_fifa_rank'], bins=bins, labels=ranking)\n",
    "    r[\"away ranking\"] = pd.cut(x=data['away_team_fifa_rank'], bins=bins, labels=ranking)\n",
    "    rr = r.loc[:len(r), ['home ranking', 'away ranking', 'home_team_result']]\n",
    "    win_rate = []\n",
    "    for g1 in ranking:\n",
    "        for g2 in ranking:\n",
    "            game = rr[((rr[\"home ranking\"] == g1) & (rr[\"away ranking\"] == g2))]\n",
    "            nb_games = len(rr[((rr[\"home ranking\"] == g1) & (rr[\"away ranking\"] == g2))])\n",
    "            for g in [\"Win\", \"Lose\", \"Draw\"]:\n",
    "                if team1 != None and team2 != None and team1 == g1 and team2 == g2 or team1 == None and team2 == None:\n",
    "                    win_rate.append(len(game[game[\"home_team_result\"] == g]) / nb_games * 100)\n",
    "                    #print(g, \"HOME:\", g1, \"against AWAY:\", g2, \"\\t\", (len(game[game[\"home_team_result\"] == g]) / nb_games * 100))\n",
    "                   \n",
    "            if team1 != None and team2 != None and team1 == g1 and team2 == g2:\n",
    "                return win_rate\n",
    "\n",
    "world_class= []          \n",
    "world_class.append(rank(\"World class\", \"World class\"))\n",
    "world_class.append(rank(\"World class\", \"Really Good\"))\n",
    "world_class.append(rank(\"World class\",\"Average\"))\n",
    "world_class.append(rank(\"World class\",\"Bad\"))\n",
    "world_class.append(rank(\"World class\", \"Really Bad\"))\n",
    "world_class.append(rank(\"World class\", \"Worst\"))\n",
    "\n",
    "really_good = []\n",
    "really_good.append(rank(\"Really Good\", \"World class\"))\n",
    "really_good.append(rank(\"Really Good\", \"Really Good\"))\n",
    "really_good.append(rank(\"Really Good\", \"Average\"))\n",
    "really_good.append(rank(\"Really Good\", \"Bad\"))\n",
    "really_good.append(rank(\"Really Good\", \"Really Bad\"))\n",
    "really_good.append(rank(\"Really Good\", \"Worst\"))\n",
    "\n",
    "average = []\n",
    "average.append(rank(\"Average\", \"World class\"))\n",
    "average.append(rank(\"Average\", \"Really Good\"))\n",
    "average.append(rank(\"Average\", \"Average\"))\n",
    "average.append(rank(\"Average\", \"Bad\"))\n",
    "average.append(rank(\"Average\", \"Really Bad\"))\n",
    "average.append(rank(\"Average\", \"Worst\"))\n",
    "\n",
    "bad =[]\n",
    "bad.append(rank(\"Bad\", \"World class\"))\n",
    "bad.append(rank(\"Bad\", \"Really Good\"))\n",
    "bad.append(rank(\"Bad\", \"Average\"))\n",
    "bad.append(rank(\"Bad\", \"Bad\"))\n",
    "bad.append(rank(\"Bad\", \"Really Bad\"))\n",
    "bad.append(rank(\"Bad\", \"Worst\"))\n",
    "\n",
    "really_bad =[]\n",
    "really_bad.append(rank(\"Really Bad\", \"World class\"))\n",
    "really_bad.append(rank(\"Really Bad\", \"Really Good\"))\n",
    "really_bad.append(rank(\"Really Bad\", \"Average\"))\n",
    "really_bad.append(rank(\"Really Bad\", \"Bad\"))\n",
    "really_bad.append(rank(\"Really Bad\", \"Really Bad\"))\n",
    "really_bad.append(rank(\"Really Bad\", \"Worst\"))\n",
    "\n",
    "worst = []\n",
    "worst.append(rank(\"Worst\", \"World class\"))\n",
    "worst.append(rank(\"Worst\", \"Really Good\"))\n",
    "worst.append(rank(\"Worst\", \"Average\"))\n",
    "worst.append(rank(\"Worst\", \"Bad\"))\n",
    "worst.append(rank(\"Worst\", \"Really Bad\"))\n",
    "worst.append(rank(\"Worst\", \"Worst\"))\n",
    "worst\n"
   ]
  },
  {
   "cell_type": "code",
   "execution_count": 53,
   "metadata": {},
   "outputs": [
    {
     "data": {
      "text/html": [
       "<div>\n",
       "<style scoped>\n",
       "    .dataframe tbody tr th:only-of-type {\n",
       "        vertical-align: middle;\n",
       "    }\n",
       "\n",
       "    .dataframe tbody tr th {\n",
       "        vertical-align: top;\n",
       "    }\n",
       "\n",
       "    .dataframe thead th {\n",
       "        text-align: right;\n",
       "    }\n",
       "</style>\n",
       "<table border=\"1\" class=\"dataframe\">\n",
       "  <thead>\n",
       "    <tr style=\"text-align: right;\">\n",
       "      <th></th>\n",
       "      <th>HomeWin</th>\n",
       "      <th>HomeLose</th>\n",
       "      <th>HomeDraw</th>\n",
       "    </tr>\n",
       "  </thead>\n",
       "  <tbody>\n",
       "    <tr>\n",
       "      <th>World class</th>\n",
       "      <td>3.389831</td>\n",
       "      <td>87.570621</td>\n",
       "      <td>9.039548</td>\n",
       "    </tr>\n",
       "    <tr>\n",
       "      <th>Really Good</th>\n",
       "      <td>11.643836</td>\n",
       "      <td>69.863014</td>\n",
       "      <td>18.493151</td>\n",
       "    </tr>\n",
       "    <tr>\n",
       "      <th>Average</th>\n",
       "      <td>15.139442</td>\n",
       "      <td>64.143426</td>\n",
       "      <td>20.717131</td>\n",
       "    </tr>\n",
       "    <tr>\n",
       "      <th>Bad</th>\n",
       "      <td>21.077505</td>\n",
       "      <td>53.969754</td>\n",
       "      <td>24.952741</td>\n",
       "    </tr>\n",
       "    <tr>\n",
       "      <th>Really Bad</th>\n",
       "      <td>30.887748</td>\n",
       "      <td>44.167278</td>\n",
       "      <td>24.944974</td>\n",
       "    </tr>\n",
       "    <tr>\n",
       "      <th>Worst</th>\n",
       "      <td>51.432914</td>\n",
       "      <td>27.051672</td>\n",
       "      <td>21.515415</td>\n",
       "    </tr>\n",
       "  </tbody>\n",
       "</table>\n",
       "</div>"
      ],
      "text/plain": [
       "               HomeWin   HomeLose   HomeDraw\n",
       "World class   3.389831  87.570621   9.039548\n",
       "Really Good  11.643836  69.863014  18.493151\n",
       "Average      15.139442  64.143426  20.717131\n",
       "Bad          21.077505  53.969754  24.952741\n",
       "Really Bad   30.887748  44.167278  24.944974\n",
       "Worst        51.432914  27.051672  21.515415"
      ]
     },
     "execution_count": 53,
     "metadata": {},
     "output_type": "execute_result"
    }
   ],
   "source": [
    "df_world_class = pd.DataFrame(world_class, index = [\"World class\", \"Really Good\", \"Average\", \"Bad\",\"Really Bad\",\"Worst\"], columns = [\"HomeWin\", \"HomeLose\", \"HomeDraw\"] )\n",
    "df_really_good = pd.DataFrame(really_good, index = [\"World class\", \"Really Good\", \"Average\", \"Bad\",\"Really Bad\",\"Worst\"], columns = [\"HomeWin\", \"HomeLose\", \"HomeDraw\"] )\n",
    "df_average = pd.DataFrame(average, index = [\"World class\", \"Really Good\", \"Average\", \"Bad\",\"Really Bad\",\"Worst\"], columns = [\"HomeWin\", \"HomeLose\", \"HomeDraw\"] )\n",
    "df_bad = pd.DataFrame(bad, index = [\"World class\", \"Really Good\", \"Average\", \"Bad\",\"Really Bad\",\"Worst\"], columns = [\"HomeWin\", \"HomeLose\", \"HomeDraw\"] )\n",
    "df_really_bad = pd.DataFrame(really_bad, index = [\"World class\", \"Really Good\", \"Average\", \"Bad\",\"Really Bad\",\"Worst\"], columns = [\"HomeWin\", \"HomeLose\", \"HomeDraw\"] )\n",
    "df_worst = pd.DataFrame(worst, index = [\"World class\", \"Really Good\", \"Average\", \"Bad\",\"Really Bad\",\"Worst\"], columns = [\"HomeWin\", \"HomeLose\", \"HomeDraw\"] )\n",
    "\n"
   ]
  },
  {
   "cell_type": "code",
   "execution_count": 70,
   "metadata": {},
   "outputs": [
    {
     "data": {
      "text/plain": [
       "World class     3.389831\n",
       "Really Good    11.643836\n",
       "Average        15.139442\n",
       "Bad            21.077505\n",
       "Really Bad     30.887748\n",
       "Worst          51.432914\n",
       "Name: HomeWin, dtype: float64"
      ]
     },
     "execution_count": 70,
     "metadata": {},
     "output_type": "execute_result"
    }
   ],
   "source": [
    "df_worst.iloc[:,0]"
   ]
  },
  {
   "cell_type": "code",
   "execution_count": 72,
   "metadata": {},
   "outputs": [
    {
     "data": {
      "text/plain": [
       "[World class     3.389831\n",
       " Really Good    11.643836\n",
       " Average        15.139442\n",
       " Bad            21.077505\n",
       " Really Bad     30.887748\n",
       " Worst          51.432914\n",
       " Name: HomeWin, dtype: float64]"
      ]
     },
     "execution_count": 72,
     "metadata": {},
     "output_type": "execute_result"
    }
   ],
   "source": [
    "df_worst_corr = []\n",
    "df_worst_corr.append(df_worst.iloc[:,0])\n",
    "df_worst_corr"
   ]
  },
  {
   "cell_type": "code",
   "execution_count": null,
   "metadata": {},
   "outputs": [],
   "source": []
  },
  {
   "cell_type": "markdown",
   "metadata": {},
   "source": [
    "df_worst_corr = []\n",
    "df_worst_corr = pd.DataFrame(df_worst.iloc[0:1].mean(), df)\n",
    "df_worst_corr\n"
   ]
  },
  {
   "cell_type": "code",
   "execution_count": 28,
   "metadata": {},
   "outputs": [],
   "source": [
    "df_wc = []\n",
    "df_rg = []\n",
    "df_av = []\n",
    "df_b = []\n",
    "df_rb = []\n",
    "df_w = []\n",
    "\n",
    "df_wc.append(df_world_class[\"HomeWin\"].mean())\n",
    "df_wc.append(df_world_class[\"HomeLose\"].mean())\n",
    "df_wc.append(df_world_class[\"HomeDraw\"].mean())\n",
    "\n",
    "df_rg.append(df_really_good[\"HomeWin\"].mean())\n",
    "df_rg.append(df_really_good[\"HomeLose\"].mean())\n",
    "df_rg.append(df_really_good[\"HomeDraw\"].mean())\n",
    "\n",
    "df_av.append(df_average[\"HomeWin\"].mean())\n",
    "df_av.append(df_average[\"HomeLose\"].mean())\n",
    "df_av.append(df_average[\"HomeDraw\"].mean())\n",
    "\n",
    "df_b.append(df_bad[\"HomeWin\"].mean())\n",
    "df_b.append(df_bad[\"HomeLose\"].mean())\n",
    "df_b.append(df_bad[\"HomeDraw\"].mean())\n",
    "\n",
    "df_rb.append(df_really_bad[\"HomeWin\"].mean())\n",
    "df_rb.append(df_really_bad[\"HomeLose\"].mean())\n",
    "df_rb.append(df_really_bad[\"HomeDraw\"].mean())\n",
    "\n",
    "df_w.append(df_worst[\"HomeWin\"].mean())\n",
    "df_w.append(df_worst[\"HomeLose\"].mean())\n",
    "df_w.append(df_worst[\"HomeDraw\"].mean())\n",
    "\n"
   ]
  },
  {
   "cell_type": "code",
   "execution_count": 29,
   "metadata": {},
   "outputs": [],
   "source": [
    "df_stat = pd.DataFrame(list(zip(df_wc,df_rg,df_av,df_b,df_rb,df_w)), columns = [\"World class\", \"Really Good\", \"Average\", \"Bad\",\"Really Bad\",\"Worst\"])\n",
    "\n"
   ]
  },
  {
   "cell_type": "code",
   "execution_count": 30,
   "metadata": {},
   "outputs": [],
   "source": [
    "y1 =[df_stat.iloc[0,0], df_stat.iloc[0,1], df_stat.iloc[0,2], df_stat.iloc[0,3], df_stat.iloc[0,4], df_stat.iloc[0,5]]\n",
    "y2 = [df_stat.iloc[1,0], df_stat.iloc[1,1], df_stat.iloc[1,2], df_stat.iloc[1,3], df_stat.iloc[1,4], df_stat.iloc[1,5]]\n",
    "y3 = [df_stat.iloc[2,0], df_stat.iloc[2,1], df_stat.iloc[2,2], df_stat.iloc[2,3], df_stat.iloc[2,4], df_stat.iloc[2,5]]\n"
   ]
  },
  {
   "cell_type": "code",
   "execution_count": 31,
   "metadata": {},
   "outputs": [
    {
     "data": {
      "text/plain": [
       "(array([ 0., 10., 20., 30., 40., 50., 60., 70., 80.]),\n",
       " [Text(0, 0.0, '0'),\n",
       "  Text(0, 10.0, '10'),\n",
       "  Text(0, 20.0, '20'),\n",
       "  Text(0, 30.0, '30'),\n",
       "  Text(0, 40.0, '40'),\n",
       "  Text(0, 50.0, '50'),\n",
       "  Text(0, 60.0, '60'),\n",
       "  Text(0, 70.0, '70'),\n",
       "  Text(0, 80.0, '80')])"
      ]
     },
     "execution_count": 31,
     "metadata": {},
     "output_type": "execute_result"
    },
    {
     "data": {
      "image/png": "[encoded data removed]",
      "text/plain": [
       "<Figure size 1700x700 with 1 Axes>"
      ]
     },
     "metadata": {},
     "output_type": "display_data"
    }
   ],
   "source": [
    "fig = plt.figure(figsize = (17, 7))\n",
    "\n",
    "x = np.arange(6)\n",
    "\n",
    "width = 0.2\n",
    "  \n",
    "# plot data in grouped manner of bar type\n",
    "plt.bar(x-0.2, y1, width, color='blue')\n",
    "plt.bar(x, y2, width, color='orange')\n",
    "plt.bar(x+0.2, y3, width, color='green')\n",
    "\n",
    "\n",
    "# labels and title \n",
    "plt.xlabel('Team class',fontsize = 20)\n",
    "plt.ylabel(\"Result percentage\", fontsize = 20)\n",
    "plt.title(\"Home results per team class\", fontsize = 25)\n",
    "plt.xticks(x, ['World class', 'Really good', 'Average', 'Bad', 'Really bad',\"Worst\"], fontsize =12)\n",
    "plt.legend([\"Home Win\", \"Home Lose\", \"Home draw\"])\n",
    "plt.yticks(fontsize =12)\n"
   ]
  },
  {
   "cell_type": "code",
   "execution_count": 32,
   "metadata": {},
   "outputs": [],
   "source": [
    "#diagramme de correlation \n"
   ]
  },
  {
   "cell_type": "code",
   "execution_count": 33,
   "metadata": {},
   "outputs": [],
   "source": [
    "df_world_class\n",
    "df_really_good\n",
    "df_average\n",
    "df_bad\n",
    "df_really_bad\n",
    "df_worst\n",
    "\n",
    "world_class_mean = df_world_class['HomeWin'].mean()\n",
    "really_good_mean = df_really_good['HomeWin'].mean()\n",
    "average_mean = df_average['HomeWin'].mean()\n",
    "bad_mean = df_bad['HomeWin'].mean()\n",
    "really_bad_mean = df_really_bad['HomeWin'].mean()\n",
    "worst_mean = df_worst['HomeWin'].mean()\n",
    "\n",
    "np = [[\"world_class_mean\", world_class_mean],[\"really_good_mean\",really_good_mean],[\"average_mean\",average_mean], [\"bad_mean\", average_mean],[\"really_bad_mean\",really_bad_mean], [\"worst_mean\", worst_mean]]"
   ]
  },
  {
   "cell_type": "code",
   "execution_count": 34,
   "metadata": {},
   "outputs": [
    {
     "name": "stdout",
     "output_type": "stream",
     "text": [
      "              class       mean\n",
      "0  world_class_mean  69.374607\n",
      "1  really_good_mean  59.394747\n",
      "2      average_mean  53.040042\n",
      "3          bad_mean  53.040042\n",
      "4   really_bad_mean  35.481655\n",
      "5        worst_mean  22.261879\n"
     ]
    }
   ],
   "source": [
    "df_mean = pd.DataFrame(np, columns = ['class', 'mean'])\n",
    "print(df_mean)"
   ]
  },
  {
   "cell_type": "code",
   "execution_count": 35,
   "metadata": {},
   "outputs": [
    {
     "data": {
      "text/plain": [
       "Text(0.5, 1.0, 'Home winning mean per team class')"
      ]
     },
     "execution_count": 35,
     "metadata": {},
     "output_type": "execute_result"
    },
    {
     "data": {
      "image/png": "[encoded data removed]",
      "text/plain": [
       "<Figure size 1700x700 with 1 Axes>"
      ]
     },
     "metadata": {},
     "output_type": "display_data"
    }
   ],
   "source": [
    "\n",
    "\n",
    "# Plotting the barchart of the evolution of hot streak over the time for Spain \n",
    "\n",
    "fig = plt.figure(figsize = (17, 7))\n",
    "plt.bar(df_mean['class'], df_mean['mean'])\n",
    "\n",
    "# Changing the fontsize of the axes\n",
    "\n",
    "plt.xticks(fontsize = 12)\n",
    "plt.yticks(fontsize = 12)\n",
    "\n",
    "\n",
    "# labels and title \n",
    "plt.xlabel('class',fontsize = 20)\n",
    "plt.ylabel(\"Home winning mean\", fontsize = 20)\n",
    "plt.title(\"Home winning mean per team class\", fontsize = 25)"
   ]
  },
  {
   "cell_type": "code",
   "execution_count": 36,
   "metadata": {},
   "outputs": [
    {
     "data": {
      "text/html": [
       "<div>\n",
       "<style scoped>\n",
       "    .dataframe tbody tr th:only-of-type {\n",
       "        vertical-align: middle;\n",
       "    }\n",
       "\n",
       "    .dataframe tbody tr th {\n",
       "        vertical-align: top;\n",
       "    }\n",
       "\n",
       "    .dataframe thead th {\n",
       "        text-align: right;\n",
       "    }\n",
       "</style>\n",
       "<table border=\"1\" class=\"dataframe\">\n",
       "  <thead>\n",
       "    <tr style=\"text-align: right;\">\n",
       "      <th></th>\n",
       "      <th>HomeWin</th>\n",
       "      <th>HomeLose</th>\n",
       "      <th>HomeDraw</th>\n",
       "    </tr>\n",
       "  </thead>\n",
       "  <tbody>\n",
       "    <tr>\n",
       "      <th>World class</th>\n",
       "      <td>43.626062</td>\n",
       "      <td>32.011331</td>\n",
       "      <td>24.362606</td>\n",
       "    </tr>\n",
       "    <tr>\n",
       "      <th>Really Good</th>\n",
       "      <td>57.996485</td>\n",
       "      <td>19.507909</td>\n",
       "      <td>22.495606</td>\n",
       "    </tr>\n",
       "    <tr>\n",
       "      <th>Average</th>\n",
       "      <td>66.666667</td>\n",
       "      <td>12.444444</td>\n",
       "      <td>20.888889</td>\n",
       "    </tr>\n",
       "    <tr>\n",
       "      <th>Bad</th>\n",
       "      <td>74.314214</td>\n",
       "      <td>7.481297</td>\n",
       "      <td>18.204489</td>\n",
       "    </tr>\n",
       "    <tr>\n",
       "      <th>Really Bad</th>\n",
       "      <td>80.310881</td>\n",
       "      <td>6.735751</td>\n",
       "      <td>12.953368</td>\n",
       "    </tr>\n",
       "    <tr>\n",
       "      <th>Worst</th>\n",
       "      <td>93.333333</td>\n",
       "      <td>1.111111</td>\n",
       "      <td>5.555556</td>\n",
       "    </tr>\n",
       "    <tr>\n",
       "      <th>World class</th>\n",
       "      <td>8.552632</td>\n",
       "      <td>68.421053</td>\n",
       "      <td>23.026316</td>\n",
       "    </tr>\n",
       "    <tr>\n",
       "      <th>Really Good</th>\n",
       "      <td>24.305556</td>\n",
       "      <td>50.000000</td>\n",
       "      <td>25.694444</td>\n",
       "    </tr>\n",
       "    <tr>\n",
       "      <th>Average</th>\n",
       "      <td>26.071429</td>\n",
       "      <td>46.785714</td>\n",
       "      <td>27.142857</td>\n",
       "    </tr>\n",
       "    <tr>\n",
       "      <th>Bad</th>\n",
       "      <td>36.502732</td>\n",
       "      <td>35.628415</td>\n",
       "      <td>27.868852</td>\n",
       "    </tr>\n",
       "    <tr>\n",
       "      <th>Really Bad</th>\n",
       "      <td>50.169109</td>\n",
       "      <td>24.915445</td>\n",
       "      <td>24.915445</td>\n",
       "    </tr>\n",
       "    <tr>\n",
       "      <th>Worst</th>\n",
       "      <td>67.288474</td>\n",
       "      <td>11.925383</td>\n",
       "      <td>20.786143</td>\n",
       "    </tr>\n",
       "  </tbody>\n",
       "</table>\n",
       "</div>"
      ],
      "text/plain": [
       "               HomeWin   HomeLose   HomeDraw\n",
       "World class  43.626062  32.011331  24.362606\n",
       "Really Good  57.996485  19.507909  22.495606\n",
       "Average      66.666667  12.444444  20.888889\n",
       "Bad          74.314214   7.481297  18.204489\n",
       "Really Bad   80.310881   6.735751  12.953368\n",
       "Worst        93.333333   1.111111   5.555556\n",
       "World class   8.552632  68.421053  23.026316\n",
       "Really Good  24.305556  50.000000  25.694444\n",
       "Average      26.071429  46.785714  27.142857\n",
       "Bad          36.502732  35.628415  27.868852\n",
       "Really Bad   50.169109  24.915445  24.915445\n",
       "Worst        67.288474  11.925383  20.786143"
      ]
     },
     "execution_count": 36,
     "metadata": {},
     "output_type": "execute_result"
    }
   ],
   "source": [
    "\n",
    "result = pd.concat([df_world_class, df_really_bad])\n",
    "result"
   ]
  },
  {
   "cell_type": "code",
   "execution_count": 14,
   "metadata": {},
   "outputs": [
    {
     "data": {
      "text/plain": [
       "52.42813119429163"
      ]
     },
     "execution_count": 14,
     "metadata": {},
     "output_type": "execute_result"
    }
   ],
   "source": [
    "result[\"HomeWin\"].mean()"
   ]
  },
  {
   "cell_type": "code",
   "execution_count": 41,
   "metadata": {},
   "outputs": [
    {
     "ename": "AttributeError",
     "evalue": "'list' object has no attribute 'corr'",
     "output_type": "error",
     "traceback": [
      "\u001b[0;31m---------------------------------------------------------------------------\u001b[0m",
      "\u001b[0;31mAttributeError\u001b[0m                            Traceback (most recent call last)",
      "Cell \u001b[0;32mIn [41], line 4\u001b[0m\n\u001b[1;32m      1\u001b[0m \u001b[39m#corr plot \u001b[39;00m\n\u001b[0;32m----> 4\u001b[0m corr \u001b[39m=\u001b[39m worst\u001b[39m.\u001b[39;49mcorr()\n\u001b[1;32m      6\u001b[0m corr\n",
      "\u001b[0;31mAttributeError\u001b[0m: 'list' object has no attribute 'corr'"
     ]
    }
   ],
   "source": [
    "#corr plot \n",
    "\n",
    "\n",
    "corr = worst.corr()\n",
    "\n",
    "corr"
   ]
  }
 ],
 "metadata": {
  "kernelspec": {
   "display_name": "Python 3 (ipykernel)",
   "language": "python",
   "name": "python3"
  },
  "language_info": {
   "codemirror_mode": {
    "name": "ipython",
    "version": 3
   },
   "file_extension": ".py",
   "mimetype": "text/x-python",
   "name": "python",
   "nbconvert_exporter": "python",
   "pygments_lexer": "ipython3",
   "version": "3.9.12"
  },
  "vscode": {
   "interpreter": {
    "hash": "aee8b7b246df8f9039afb4144a1f6fd8d2ca17a180786b69acc140d282b71a49"
   }
  }
 },
 "nbformat": 4,
 "nbformat_minor": 2
}
