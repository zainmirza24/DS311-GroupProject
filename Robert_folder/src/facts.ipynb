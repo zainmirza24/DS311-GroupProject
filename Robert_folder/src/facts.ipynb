{
 "cells": [
  {
   "cell_type": "markdown",
   "metadata": {},
   "source": [
    "# FACTS of the FIFA World Cup dataset\n",
    "\n"
   ]
  },
  {
   "cell_type": "markdown",
   "metadata": {},
   "source": [
    "We'll take data frfom the file `fifa_world_cup.csv`"
   ]
  },
  {
   "cell_type": "code",
   "execution_count": 1,
   "metadata": {
    "ExecuteTime": {
     "end_time": "2022-08-06T06:08:31.925112Z",
     "start_time": "2022-08-06T06:08:29.337754Z"
    }
   },
   "outputs": [],
   "source": [
    "#!/usr/bin/env python3\n",
    "## SFSU, 2022\n",
    "## Robert Harakaly\n",
    "## File description:\n",
    "## GroupProject, Fifa WorldCup\n",
    "##\n",
    "\n",
    "import pandas as pd\n",
    "import numpy as np\n",
    "from math import *\n",
    "from collections import Counter\n",
    "\n",
    "file = \"../doc/sport/fifa_world_cup.csv\"\n",
    "data = pd.read_csv(file)"
   ]
  },
  {
   "cell_type": "markdown",
   "metadata": {},
   "source": [
    "## Who Scored the most Goals ?\n",
    "\n"
   ]
  },
  {
   "cell_type": "code",
   "execution_count": 2,
   "metadata": {},
   "outputs": [
    {
     "name": "stdout",
     "output_type": "stream",
     "text": [
      "Team that scored the most goals at Home is: USA with 589 goals\n",
      "Team that scored the most goals Away is: Brazil with 396 goals\n",
      "Team that scored the most goals Overall is: Brazil with 954 goals\n",
      "\n",
      "Team that have the highest goals per match at Home is: New Caledonia with 2.6785714285714284 goals\n",
      "Team that have the highest goals per match Away is: Vanuatu with 2.314814814814815 goals\n",
      "Team that have the highest goals per match overall is: New Caledonia with 2.2582046332046333 goals\n"
     ]
    }
   ],
   "source": [
    "def max_goal(type):\n",
    "    if type == \"sum\":\n",
    "        most_goal = pd.DataFrame(data.groupby(['home_team']).sum())\n",
    "        most_goal_a = pd.DataFrame(data.groupby(['away_team']).sum())\n",
    "    if type == \"mean\":\n",
    "        most_goal = pd.DataFrame(data.groupby(['home_team']).mean())\n",
    "        most_goal_a = pd.DataFrame(data.groupby(['away_team']).mean())\n",
    "    most_goal = pd.DataFrame(most_goal.iloc[0:, [4]]).to_numpy()\n",
    "    most_goal_a = pd.DataFrame(most_goal_a.iloc[0:, [5]]).to_numpy()\n",
    "    tot = []\n",
    "    for idx, i in enumerate(most_goal_a):\n",
    "        if type == \"sum\":\n",
    "            tot.append(int(i+most_goal[idx]))\n",
    "        if type == \"mean\":\n",
    "            tot.append(float((i+most_goal[idx])/2))\n",
    "    country = data.groupby('home_team')['home_team'].apply(list)\n",
    "    c = []\n",
    "    for idx, i in enumerate(country):\n",
    "        c.append(i[0])\n",
    "    m_h = max(most_goal)\n",
    "    m_a = max(most_goal_a)\n",
    "    m = max(tot)\n",
    "    j = 0\n",
    "    j_h = 0\n",
    "    j_a = 0\n",
    "    for idx, i in enumerate(c):\n",
    "        if tot[idx] == m:\n",
    "            j = idx\n",
    "        if most_goal[idx] == m_h:\n",
    "            j_h = idx\n",
    "        if most_goal_a[idx] == m_a:\n",
    "            j_a = idx\n",
    "    if type == \"sum\":\n",
    "        print(\"Team that scored the most goals at Home is:\", c[j_h], \"with\", m_h[0], \"goals\")\n",
    "        print(\"Team that scored the most goals Away is:\", c[j_a], \"with\", m_a[0], \"goals\")\n",
    "        print(\"Team that scored the most goals Overall is:\", c[j], \"with\", m, \"goals\")\n",
    "    if type == \"mean\":\n",
    "        print(\"Team that have the highest goals per match at Home is:\", c[j_h], \"with\", m_h[0], \"goals\")\n",
    "        print(\"Team that have the highest goals per match Away is:\", c[j_a], \"with\", m_a[0], \"goals\")\n",
    "        print(\"Team that have the highest goals per match overall is:\", c[j], \"with\", m, \"goals\")\n",
    "    return c\n",
    "\n",
    "def who_scored_the_most_goals():\n",
    "    c = max_goal(\"sum\")\n",
    "    print()\n",
    "    max_goal(\"mean\")\n",
    "    return c\n",
    "\n",
    "c = who_scored_the_most_goals()"
   ]
  },
  {
   "cell_type": "markdown",
   "metadata": {},
   "source": [
    "## Which team have the cleaner sheet ?"
   ]
  },
  {
   "cell_type": "code",
   "execution_count": 3,
   "metadata": {},
   "outputs": [
    {
     "name": "stdout",
     "output_type": "stream",
     "text": [
      "The team who have to most clean sheet at Home is: USA with 152 clean sheets\n",
      "This is 48.40764331210191 % clean sheets\n",
      "The team who have to most clean sheet Away is: Zambia with 96 clean sheets\n",
      "This is 39.50617283950617 % clean sheets\n",
      "The team who have to most clean sheet overall is: Brazil with 229 clean sheets\n",
      "This is 52.88683602771363 % clean sheets\n"
     ]
    }
   ],
   "source": [
    "def home_clean_sheet(home, team):\n",
    "    clean_sheet = pd.DataFrame(data[data[home] == 0])\n",
    "    clean_sheet = clean_sheet[team].to_numpy()\n",
    "    cs = []\n",
    "    for i in clean_sheet:\n",
    "        cs.append(i)\n",
    "    a = dict(Counter(cs))\n",
    "    t = max(a, key=a.get)\n",
    "    if team == 'home_team':\n",
    "        tot_game = len(data[data['home_team'] == t])\n",
    "        print(\"The team who have to most clean sheet at Home is:\", t, \"with\", a[t], \"clean sheets\")\n",
    "        print(\"This is\", (a[t]/tot_game)*100, \"% clean sheets\")\n",
    "    if team == 'away_team':\n",
    "        tot_game = len(data[data['away_team'] == t])\n",
    "        print(\"The team who have to most clean sheet Away is:\", t, \"with\", a[t], \"clean sheets\")\n",
    "        print(\"This is\", (a[t]/tot_game)*100, \"% clean sheets\")\n",
    "    return a, cs, tot_game\n",
    "\n",
    "def clean_sheet(c):\n",
    "    a_h, cs, tot_game_h = home_clean_sheet(\"away_team_score\", \"home_team\")\n",
    "    a_a, cs, tot_game_a = home_clean_sheet(\"home_team_score\", \"away_team\")\n",
    "    tot = []\n",
    "#    tot_game = tot_game_h + tot_game_a\n",
    "    for idx, i in enumerate(cs):\n",
    "        try:\n",
    "            tot.append(a_h[i]+a_a[i])\n",
    "        except:\n",
    "            continue\n",
    "    m = max(tot)\n",
    "    j = 0\n",
    "    for idx, i in enumerate(cs):\n",
    "        if m == tot[idx]:\n",
    "            j = idx\n",
    "            break\n",
    "    tot_game = len(data[(data['home_team'] == cs[j]) | (data['away_team'] == cs[j])])\n",
    "    print(\"The team who have to most clean sheet overall is:\", cs[j], \"with\", m, \"clean sheets\")\n",
    "    print(\"This is\", (m/tot_game)*100, \"% clean sheets\")\n",
    "\n",
    "clean_sheet(c)"
   ]
  },
  {
   "cell_type": "markdown",
   "metadata": {},
   "source": [
    "## Is it an advantage to play at Home ?"
   ]
  },
  {
   "cell_type": "code",
   "execution_count": 4,
   "metadata": {},
   "outputs": [
    {
     "name": "stdout",
     "output_type": "stream",
     "text": [
      "\n",
      "The team at home have: 49.166004765687056 % chances to win\n",
      "The away team have: 28.305672839764224 % chances to win\n",
      "There is 22.528322394548724 % chances to have a draw\n"
     ]
    }
   ],
   "source": [
    "def Home_or_Away():\n",
    "    global data\n",
    "    print()\n",
    "    win = (len(data[data['home_team_result'] == 'Win'])/(len(data))*100)\n",
    "    lose = (len(data[data['home_team_result'] == 'Lose'])/(len(data))*100)\n",
    "    draw = (len(data[data['home_team_result'] == 'Draw'])/(len(data))*100)\n",
    "    print(\"The team at home have:\", win, \"% chances to win\")\n",
    "    print(\"The away team have:\", lose, \"% chances to win\")\n",
    "    print(\"There is\", draw, \"% chances to have a draw\")\n",
    "\n",
    "Home_or_Away()"
   ]
  },
  {
   "cell_type": "markdown",
   "metadata": {},
   "source": [
    "## Which team won the most games ?"
   ]
  },
  {
   "cell_type": "code",
   "execution_count": 5,
   "metadata": {},
   "outputs": [
    {
     "name": "stdout",
     "output_type": "stream",
     "text": [
      "The team who won the most of match is: USA with 194 victory at Home which is 61.78343949044586 % victory\n",
      "The team who won the most of match is: Brazil with 120 victory Away which is 60.0 % victory\n",
      "The team who won the most of match is: Brazil with 301 victory Overall which is 69.5150115473441 % victory\n"
     ]
    }
   ],
   "source": [
    "def who_win_the_most(c, team, score):\n",
    "    global data\n",
    "    win = []\n",
    "    for i in c:\n",
    "        win.append(len(data[(data[team] == i) & (data['home_team_result'] == score)]))\n",
    "    m = max(win)\n",
    "    j = 0\n",
    "    for idx, i in enumerate(win):\n",
    "        if m == i:\n",
    "            j = idx\n",
    "    tot_game = len(data[data[team] == c[j]])\n",
    "    if team == 'home_team':\n",
    "        print(\"The team who won the most of match is:\", c[j], \"with\", m, \"victory at Home which is\", m/tot_game*100, \"% victory\")\n",
    "    if team == 'away_team':\n",
    "        print(\"The team who won the most of match is:\", c[j], \"with\", m, \"victory Away which is\", m/tot_game*100, \"% victory\")\n",
    "    return win\n",
    "\n",
    "\n",
    "def best_country(c):\n",
    "    win_h = who_win_the_most(c, 'home_team', \"Win\")\n",
    "    win_a = who_win_the_most(c, 'away_team', \"Lose\")\n",
    "    win = []\n",
    "    for idx, i in enumerate(win_h):\n",
    "        win.append(i + win_a[idx])\n",
    "    m = max(win)\n",
    "    j = 0\n",
    "    for idx, i in enumerate(win):\n",
    "        if m == i:\n",
    "            j = idx\n",
    "    tot_game = len(data[(data['home_team'] == c[j]) | (data['away_team'] == c[j])])\n",
    "    print(\"The team who won the most of match is:\", c[j], \"with\", m, \"victory Overall which is\", m/tot_game*100, \"% victory\")\n",
    "\n",
    "best_country(c)"
   ]
  }
 ],
 "metadata": {
  "anaconda-cloud": {},
  "interpreter": {
   "hash": "3df030b5c5d68d2c9cf8593e40fe35557a84f38745259ee18137d7a7adb77657"
  },
  "kernel_info": {
   "name": "python3"
  },
  "kernelspec": {
   "display_name": "Python 3.9.5 ('base')",
   "language": "python",
   "name": "python3"
  },
  "language_info": {
   "codemirror_mode": {
    "name": "ipython",
    "version": 3
   },
   "file_extension": ".py",
   "mimetype": "text/x-python",
   "name": "python",
   "nbconvert_exporter": "python",
   "pygments_lexer": "ipython3",
   "version": "3.9.5"
  },
  "latex_envs": {
   "LaTeX_envs_menu_present": true,
   "autoclose": false,
   "autocomplete": true,
   "bibliofile": "biblio.bib",
   "cite_by": "apalike",
   "current_citInitial": 1,
   "eqLabelWithNumbers": true,
   "eqNumInitial": 1,
   "hotkeys": {
    "equation": "Ctrl-E",
    "itemize": "Ctrl-I"
   },
   "labels_anchors": false,
   "latex_user_defs": false,
   "report_style_numbering": false,
   "user_envs_cfg": false
  },
  "nteract": {
   "version": "0.8.4"
  },
  "toc": {
   "base_numbering": 1,
   "nav_menu": {},
   "number_sections": true,
   "sideBar": true,
   "skip_h1_title": false,
   "title_cell": "Table of Contents",
   "title_sidebar": "Contents",
   "toc_cell": false,
   "toc_position": {},
   "toc_section_display": true,
   "toc_window_display": false
  }
 },
 "nbformat": 4,
 "nbformat_minor": 1
}
