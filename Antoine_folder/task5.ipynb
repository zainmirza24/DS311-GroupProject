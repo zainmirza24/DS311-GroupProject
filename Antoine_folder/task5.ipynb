{
 "cells": [
  {
   "cell_type": "code",
   "execution_count": 61,
   "metadata": {},
   "outputs": [
    {
     "ename": "ParserError",
     "evalue": "Error tokenizing data. C error: Expected 7 fields in line 42, saw 8\n",
     "output_type": "error",
     "traceback": [
      "\u001b[0;31m---------------------------------------------------------------------------\u001b[0m",
      "\u001b[0;31mParserError\u001b[0m                               Traceback (most recent call last)",
      "Cell \u001b[0;32mIn [61], line 12\u001b[0m\n\u001b[1;32m      8\u001b[0m sport_data_to_load \u001b[39m=\u001b[39m \u001b[39m\"\u001b[39m\u001b[39mfifa_world_cup.csv\u001b[39m\u001b[39m\"\u001b[39m\n\u001b[1;32m     10\u001b[0m \u001b[39m# Read Sport Data file and store into Pandas Data FRame\u001b[39;00m\n\u001b[0;32m---> 12\u001b[0m sport_data \u001b[39m=\u001b[39m pd\u001b[39m.\u001b[39;49mread_csv(sport_data_to_load, header \u001b[39m=\u001b[39;49m \u001b[39m0\u001b[39;49m, delim_whitespace\u001b[39m=\u001b[39;49m\u001b[39mTrue\u001b[39;49;00m )\n\u001b[1;32m     13\u001b[0m sport_data\n",
      "File \u001b[0;32m/Library/Frameworks/Python.framework/Versions/3.10/lib/python3.10/site-packages/pandas/util/_decorators.py:211\u001b[0m, in \u001b[0;36mdeprecate_kwarg.<locals>._deprecate_kwarg.<locals>.wrapper\u001b[0;34m(*args, **kwargs)\u001b[0m\n\u001b[1;32m    209\u001b[0m     \u001b[39melse\u001b[39;00m:\n\u001b[1;32m    210\u001b[0m         kwargs[new_arg_name] \u001b[39m=\u001b[39m new_arg_value\n\u001b[0;32m--> 211\u001b[0m \u001b[39mreturn\u001b[39;00m func(\u001b[39m*\u001b[39;49margs, \u001b[39m*\u001b[39;49m\u001b[39m*\u001b[39;49mkwargs)\n",
      "File \u001b[0;32m/Library/Frameworks/Python.framework/Versions/3.10/lib/python3.10/site-packages/pandas/util/_decorators.py:331\u001b[0m, in \u001b[0;36mdeprecate_nonkeyword_arguments.<locals>.decorate.<locals>.wrapper\u001b[0;34m(*args, **kwargs)\u001b[0m\n\u001b[1;32m    325\u001b[0m \u001b[39mif\u001b[39;00m \u001b[39mlen\u001b[39m(args) \u001b[39m>\u001b[39m num_allow_args:\n\u001b[1;32m    326\u001b[0m     warnings\u001b[39m.\u001b[39mwarn(\n\u001b[1;32m    327\u001b[0m         msg\u001b[39m.\u001b[39mformat(arguments\u001b[39m=\u001b[39m_format_argument_list(allow_args)),\n\u001b[1;32m    328\u001b[0m         \u001b[39mFutureWarning\u001b[39;00m,\n\u001b[1;32m    329\u001b[0m         stacklevel\u001b[39m=\u001b[39mfind_stack_level(),\n\u001b[1;32m    330\u001b[0m     )\n\u001b[0;32m--> 331\u001b[0m \u001b[39mreturn\u001b[39;00m func(\u001b[39m*\u001b[39;49margs, \u001b[39m*\u001b[39;49m\u001b[39m*\u001b[39;49mkwargs)\n",
      "File \u001b[0;32m/Library/Frameworks/Python.framework/Versions/3.10/lib/python3.10/site-packages/pandas/io/parsers/readers.py:950\u001b[0m, in \u001b[0;36mread_csv\u001b[0;34m(filepath_or_buffer, sep, delimiter, header, names, index_col, usecols, squeeze, prefix, mangle_dupe_cols, dtype, engine, converters, true_values, false_values, skipinitialspace, skiprows, skipfooter, nrows, na_values, keep_default_na, na_filter, verbose, skip_blank_lines, parse_dates, infer_datetime_format, keep_date_col, date_parser, dayfirst, cache_dates, iterator, chunksize, compression, thousands, decimal, lineterminator, quotechar, quoting, doublequote, escapechar, comment, encoding, encoding_errors, dialect, error_bad_lines, warn_bad_lines, on_bad_lines, delim_whitespace, low_memory, memory_map, float_precision, storage_options)\u001b[0m\n\u001b[1;32m    935\u001b[0m kwds_defaults \u001b[39m=\u001b[39m _refine_defaults_read(\n\u001b[1;32m    936\u001b[0m     dialect,\n\u001b[1;32m    937\u001b[0m     delimiter,\n\u001b[0;32m   (...)\u001b[0m\n\u001b[1;32m    946\u001b[0m     defaults\u001b[39m=\u001b[39m{\u001b[39m\"\u001b[39m\u001b[39mdelimiter\u001b[39m\u001b[39m\"\u001b[39m: \u001b[39m\"\u001b[39m\u001b[39m,\u001b[39m\u001b[39m\"\u001b[39m},\n\u001b[1;32m    947\u001b[0m )\n\u001b[1;32m    948\u001b[0m kwds\u001b[39m.\u001b[39mupdate(kwds_defaults)\n\u001b[0;32m--> 950\u001b[0m \u001b[39mreturn\u001b[39;00m _read(filepath_or_buffer, kwds)\n",
      "File \u001b[0;32m/Library/Frameworks/Python.framework/Versions/3.10/lib/python3.10/site-packages/pandas/io/parsers/readers.py:611\u001b[0m, in \u001b[0;36m_read\u001b[0;34m(filepath_or_buffer, kwds)\u001b[0m\n\u001b[1;32m    608\u001b[0m     \u001b[39mreturn\u001b[39;00m parser\n\u001b[1;32m    610\u001b[0m \u001b[39mwith\u001b[39;00m parser:\n\u001b[0;32m--> 611\u001b[0m     \u001b[39mreturn\u001b[39;00m parser\u001b[39m.\u001b[39;49mread(nrows)\n",
      "File \u001b[0;32m/Library/Frameworks/Python.framework/Versions/3.10/lib/python3.10/site-packages/pandas/io/parsers/readers.py:1778\u001b[0m, in \u001b[0;36mTextFileReader.read\u001b[0;34m(self, nrows)\u001b[0m\n\u001b[1;32m   1771\u001b[0m nrows \u001b[39m=\u001b[39m validate_integer(\u001b[39m\"\u001b[39m\u001b[39mnrows\u001b[39m\u001b[39m\"\u001b[39m, nrows)\n\u001b[1;32m   1772\u001b[0m \u001b[39mtry\u001b[39;00m:\n\u001b[1;32m   1773\u001b[0m     \u001b[39m# error: \"ParserBase\" has no attribute \"read\"\u001b[39;00m\n\u001b[1;32m   1774\u001b[0m     (\n\u001b[1;32m   1775\u001b[0m         index,\n\u001b[1;32m   1776\u001b[0m         columns,\n\u001b[1;32m   1777\u001b[0m         col_dict,\n\u001b[0;32m-> 1778\u001b[0m     ) \u001b[39m=\u001b[39m \u001b[39mself\u001b[39;49m\u001b[39m.\u001b[39;49m_engine\u001b[39m.\u001b[39;49mread(  \u001b[39m# type: ignore[attr-defined]\u001b[39;49;00m\n\u001b[1;32m   1779\u001b[0m         nrows\n\u001b[1;32m   1780\u001b[0m     )\n\u001b[1;32m   1781\u001b[0m \u001b[39mexcept\u001b[39;00m \u001b[39mException\u001b[39;00m:\n\u001b[1;32m   1782\u001b[0m     \u001b[39mself\u001b[39m\u001b[39m.\u001b[39mclose()\n",
      "File \u001b[0;32m/Library/Frameworks/Python.framework/Versions/3.10/lib/python3.10/site-packages/pandas/io/parsers/c_parser_wrapper.py:230\u001b[0m, in \u001b[0;36mCParserWrapper.read\u001b[0;34m(self, nrows)\u001b[0m\n\u001b[1;32m    228\u001b[0m \u001b[39mtry\u001b[39;00m:\n\u001b[1;32m    229\u001b[0m     \u001b[39mif\u001b[39;00m \u001b[39mself\u001b[39m\u001b[39m.\u001b[39mlow_memory:\n\u001b[0;32m--> 230\u001b[0m         chunks \u001b[39m=\u001b[39m \u001b[39mself\u001b[39;49m\u001b[39m.\u001b[39;49m_reader\u001b[39m.\u001b[39;49mread_low_memory(nrows)\n\u001b[1;32m    231\u001b[0m         \u001b[39m# destructive to chunks\u001b[39;00m\n\u001b[1;32m    232\u001b[0m         data \u001b[39m=\u001b[39m _concatenate_chunks(chunks)\n",
      "File \u001b[0;32m/Library/Frameworks/Python.framework/Versions/3.10/lib/python3.10/site-packages/pandas/_libs/parsers.pyx:808\u001b[0m, in \u001b[0;36mpandas._libs.parsers.TextReader.read_low_memory\u001b[0;34m()\u001b[0m\n",
      "File \u001b[0;32m/Library/Frameworks/Python.framework/Versions/3.10/lib/python3.10/site-packages/pandas/_libs/parsers.pyx:866\u001b[0m, in \u001b[0;36mpandas._libs.parsers.TextReader._read_rows\u001b[0;34m()\u001b[0m\n",
      "File \u001b[0;32m/Library/Frameworks/Python.framework/Versions/3.10/lib/python3.10/site-packages/pandas/_libs/parsers.pyx:852\u001b[0m, in \u001b[0;36mpandas._libs.parsers.TextReader._tokenize_rows\u001b[0;34m()\u001b[0m\n",
      "File \u001b[0;32m/Library/Frameworks/Python.framework/Versions/3.10/lib/python3.10/site-packages/pandas/_libs/parsers.pyx:1973\u001b[0m, in \u001b[0;36mpandas._libs.parsers.raise_parser_error\u001b[0;34m()\u001b[0m\n",
      "\u001b[0;31mParserError\u001b[0m: Error tokenizing data. C error: Expected 7 fields in line 42, saw 8\n"
     ]
    }
   ],
   "source": [
    "# libraries \n",
    "\n",
    "import pandas as pd \n",
    "import numpy as np \n",
    "import datetime\n",
    "# Loading file \n",
    "\n",
    "sport_data_to_load = \"fifa_world_cup.csv\"\n",
    "\n",
    "# Read Sport Data file and store into Pandas Data FRame\n",
    "\n",
    "sport_data = pd.read_csv(sport_data_to_load, header = 0, delim_whitespace=True )\n",
    "sport_data"
   ]
  },
  {
   "cell_type": "code",
   "execution_count": 62,
   "metadata": {},
   "outputs": [
    {
     "data": {
      "text/plain": [
       "array(['Bolivia', 'Brazil', 'Ecuador', 'Guinea', 'Paraguay', 'Peru',\n",
       "       'Zimbabwe', 'Faroe Islands', 'Sweden', 'Australia', 'Colombia',\n",
       "       'Congo', 'Uruguay', 'Argentina', 'Austria', 'Denmark', 'Iceland',\n",
       "       'Estonia', 'Eswatini', 'Albania', 'Bulgaria', 'England', 'Finland',\n",
       "       'Hungary', 'Republic of Ireland', 'Northern Ireland', 'Norway',\n",
       "       'Scotland', 'Spain', 'Venezuela', 'Morocco', 'Saudi Arabia',\n",
       "       'Mexico', 'Romania', 'San Marino', 'Tunisia', 'Korea Republic',\n",
       "       'Nigeria', 'Zambia', 'Japan', 'Cyprus', 'Belgium', 'Algeria',\n",
       "       'Cameroon', 'Luxembourg', 'France', 'Germany', 'Italy',\n",
       "       'Netherlands', 'Poland', 'Portugal', 'USA', 'Wales', 'Korea DPR',\n",
       "       'IR Iran', 'Iraq', 'Burundi', 'Liechtenstein',\n",
       "       'United Arab Emirates', 'Israel', 'Turkey', 'Egypt', 'Gabon',\n",
       "       'Greece', 'Malta', 'Switzerland', 'Gambia', 'Sierra Leone',\n",
       "       'Guinea-Bissau', 'Senegal', 'Mali', 'Ghana', 'Tahiti', 'Kenya',\n",
       "       'Tanzania', 'Bangladesh', 'Barbados', 'Mauritania', 'Thailand',\n",
       "       'Costa Rica', 'Suriname', 'Grenada', 'Qatar', 'Burkina Faso',\n",
       "       \"Côte d'Ivoire\", 'Oman', 'Slovenia', 'Malawi', 'Cayman Islands',\n",
       "       'Dominican Republic', 'Angola', 'Trinidad and Tobago', 'Lithuania',\n",
       "       'Slovakia', 'South Africa', 'Kuwait', 'El Salvador', 'Honduras',\n",
       "       'Chile', 'Fiji', 'Czech Republic', 'Ukraine', 'Russia', 'Canada',\n",
       "       'North Macedonia', 'Latvia', 'Croatia', 'Botswana',\n",
       "       'Solomon Islands', 'Vanuatu', 'Armenia', 'Georgia', 'Myanmar',\n",
       "       'Niger', 'Namibia', 'Ethiopia', 'Liberia', 'Madagascar', 'Sudan',\n",
       "       'India', 'Malaysia', 'Belarus', 'Moldova', 'Uganda', 'Mozambique',\n",
       "       'Togo', 'Bahrain', 'Lesotho', 'Azerbaijan', 'Jamaica', 'Vietnam',\n",
       "       'Mauritius', 'China PR', 'Hong Kong', 'New Zealand', 'Nepal',\n",
       "       'Pakistan', 'Lebanon', 'Sri Lanka', 'Syria', 'Guyana', 'St. Lucia',\n",
       "       'St. Kitts and Nevis', 'Antigua and Barbuda', 'Cuba',\n",
       "       'St. Vincent and the Grenadines', 'Indonesia', 'Uzbekistan',\n",
       "       'Panama', 'Nicaragua', 'Cabo Verde', 'Dominica', 'Guatemala',\n",
       "       'Yemen', 'Philippines', 'Kyrgyz Republic', 'Macau', 'Turkmenistan',\n",
       "       'Aruba', 'Haiti', 'Tajikistan', 'Belize', 'Rwanda', 'Kazakhstan',\n",
       "       'Maldives', 'Singapore', 'Benin', 'Jordan', 'Seychelles',\n",
       "       'Cambodia', 'Laos', 'Brunei Darussalam',\n",
       "       'Central African Republic', 'Bosnia and Herzegovina', 'Tonga',\n",
       "       'Papua New Guinea', 'Libya', 'Andorra', 'Chad',\n",
       "       'Equatorial Guinea', 'Cook Islands', 'Samoa',\n",
       "       'British Virgin Islands', 'Bermuda', 'Eritrea', 'Somalia',\n",
       "       'São Tomé and Príncipe', 'Congo DR', 'US Virgin Islands',\n",
       "       'Anguilla', 'Puerto Rico', 'Bahamas', 'Montserrat', 'Palestine',\n",
       "       'Djibouti', 'American Samoa', 'Mongolia', 'Bhutan', 'Guam',\n",
       "       'Afghanistan', 'Turks and Caicos Islands', 'Serbia',\n",
       "       'New Caledonia', 'Montenegro', 'Timor-Leste', 'Comoros',\n",
       "       'Chinese Taipei', 'Curaçao', 'South Sudan', 'Kosovo', 'Gibraltar'],\n",
       "      dtype=object)"
      ]
     },
     "execution_count": 62,
     "metadata": {},
     "output_type": "execute_result"
    }
   ],
   "source": [
    "# task 5 - What team has the longest winning streak ??\n",
    "# 1- Creer une liste de tous les pays unique \n",
    "# 2- parcourir cette liste et si on le trouve dans home ou away ET que le resultat convient incrémenter le compteur et stocker dans une nouvelle liste.\n",
    "# 3- sortir les + grands compteurs de la liste et envoyer le nom du pays de l'indice qui convient dans la liste des pays\n",
    "\n",
    "\n",
    "sport_data['home_team'].unique()\n",
    "# type(sport_data['home_team'].unique())\n"
   ]
  },
  {
   "cell_type": "code",
   "execution_count": 63,
   "metadata": {},
   "outputs": [
    {
     "data": {
      "text/plain": [
       "['Bolivia',\n",
       " 'Brazil',\n",
       " 'Ecuador',\n",
       " 'Guinea',\n",
       " 'Paraguay',\n",
       " 'Peru',\n",
       " 'Zimbabwe',\n",
       " 'Faroe Islands',\n",
       " 'Sweden',\n",
       " 'Australia',\n",
       " 'Colombia',\n",
       " 'Congo',\n",
       " 'Uruguay',\n",
       " 'Argentina',\n",
       " 'Austria',\n",
       " 'Denmark',\n",
       " 'Iceland',\n",
       " 'Estonia',\n",
       " 'Eswatini',\n",
       " 'Albania',\n",
       " 'Bulgaria',\n",
       " 'England',\n",
       " 'Finland',\n",
       " 'Hungary',\n",
       " 'Republic of Ireland',\n",
       " 'Northern Ireland',\n",
       " 'Norway',\n",
       " 'Scotland',\n",
       " 'Spain',\n",
       " 'Venezuela',\n",
       " 'Morocco',\n",
       " 'Saudi Arabia',\n",
       " 'Mexico',\n",
       " 'Romania',\n",
       " 'San Marino',\n",
       " 'Tunisia',\n",
       " 'Korea Republic',\n",
       " 'Nigeria',\n",
       " 'Zambia',\n",
       " 'Japan',\n",
       " 'Cyprus',\n",
       " 'Belgium',\n",
       " 'Algeria',\n",
       " 'Cameroon',\n",
       " 'Luxembourg',\n",
       " 'France',\n",
       " 'Germany',\n",
       " 'Italy',\n",
       " 'Netherlands',\n",
       " 'Poland',\n",
       " 'Portugal',\n",
       " 'USA',\n",
       " 'Wales',\n",
       " 'Korea DPR',\n",
       " 'IR Iran',\n",
       " 'Iraq',\n",
       " 'Burundi',\n",
       " 'Liechtenstein',\n",
       " 'United Arab Emirates',\n",
       " 'Israel',\n",
       " 'Turkey',\n",
       " 'Egypt',\n",
       " 'Gabon',\n",
       " 'Greece',\n",
       " 'Malta',\n",
       " 'Switzerland',\n",
       " 'Gambia',\n",
       " 'Sierra Leone',\n",
       " 'Guinea-Bissau',\n",
       " 'Senegal',\n",
       " 'Mali',\n",
       " 'Ghana',\n",
       " 'Tahiti',\n",
       " 'Kenya',\n",
       " 'Tanzania',\n",
       " 'Bangladesh',\n",
       " 'Barbados',\n",
       " 'Mauritania',\n",
       " 'Thailand',\n",
       " 'Costa Rica',\n",
       " 'Suriname',\n",
       " 'Grenada',\n",
       " 'Qatar',\n",
       " 'Burkina Faso',\n",
       " \"Côte d'Ivoire\",\n",
       " 'Oman',\n",
       " 'Slovenia',\n",
       " 'Malawi',\n",
       " 'Cayman Islands',\n",
       " 'Dominican Republic',\n",
       " 'Angola',\n",
       " 'Trinidad and Tobago',\n",
       " 'Lithuania',\n",
       " 'Slovakia',\n",
       " 'South Africa',\n",
       " 'Kuwait',\n",
       " 'El Salvador',\n",
       " 'Honduras',\n",
       " 'Chile',\n",
       " 'Fiji',\n",
       " 'Czech Republic',\n",
       " 'Ukraine',\n",
       " 'Russia',\n",
       " 'Canada',\n",
       " 'North Macedonia',\n",
       " 'Latvia',\n",
       " 'Croatia',\n",
       " 'Botswana',\n",
       " 'Solomon Islands',\n",
       " 'Vanuatu',\n",
       " 'Armenia',\n",
       " 'Georgia',\n",
       " 'Myanmar',\n",
       " 'Niger',\n",
       " 'Namibia',\n",
       " 'Ethiopia',\n",
       " 'Liberia',\n",
       " 'Madagascar',\n",
       " 'Sudan',\n",
       " 'India',\n",
       " 'Malaysia',\n",
       " 'Belarus',\n",
       " 'Moldova',\n",
       " 'Uganda',\n",
       " 'Mozambique',\n",
       " 'Togo',\n",
       " 'Bahrain',\n",
       " 'Lesotho',\n",
       " 'Azerbaijan',\n",
       " 'Jamaica',\n",
       " 'Vietnam',\n",
       " 'Mauritius',\n",
       " 'China PR',\n",
       " 'Hong Kong',\n",
       " 'New Zealand',\n",
       " 'Nepal',\n",
       " 'Pakistan',\n",
       " 'Lebanon',\n",
       " 'Sri Lanka',\n",
       " 'Syria',\n",
       " 'Guyana',\n",
       " 'St. Lucia',\n",
       " 'St. Kitts and Nevis',\n",
       " 'Antigua and Barbuda',\n",
       " 'Cuba',\n",
       " 'St. Vincent and the Grenadines',\n",
       " 'Indonesia',\n",
       " 'Uzbekistan',\n",
       " 'Panama',\n",
       " 'Nicaragua',\n",
       " 'Cabo Verde',\n",
       " 'Dominica',\n",
       " 'Guatemala',\n",
       " 'Yemen',\n",
       " 'Philippines',\n",
       " 'Kyrgyz Republic',\n",
       " 'Macau',\n",
       " 'Turkmenistan',\n",
       " 'Aruba',\n",
       " 'Haiti',\n",
       " 'Tajikistan',\n",
       " 'Belize',\n",
       " 'Rwanda',\n",
       " 'Kazakhstan',\n",
       " 'Maldives',\n",
       " 'Singapore',\n",
       " 'Benin',\n",
       " 'Jordan',\n",
       " 'Seychelles',\n",
       " 'Cambodia',\n",
       " 'Laos',\n",
       " 'Brunei Darussalam',\n",
       " 'Central African Republic',\n",
       " 'Bosnia and Herzegovina',\n",
       " 'Tonga',\n",
       " 'Papua New Guinea',\n",
       " 'Libya',\n",
       " 'Andorra',\n",
       " 'Chad',\n",
       " 'Equatorial Guinea',\n",
       " 'Cook Islands',\n",
       " 'Samoa',\n",
       " 'British Virgin Islands',\n",
       " 'Bermuda',\n",
       " 'Eritrea',\n",
       " 'Somalia',\n",
       " 'São Tomé and Príncipe',\n",
       " 'Congo DR',\n",
       " 'US Virgin Islands',\n",
       " 'Anguilla',\n",
       " 'Puerto Rico',\n",
       " 'Bahamas',\n",
       " 'Montserrat',\n",
       " 'Palestine',\n",
       " 'Djibouti',\n",
       " 'American Samoa',\n",
       " 'Mongolia',\n",
       " 'Bhutan',\n",
       " 'Guam',\n",
       " 'Afghanistan',\n",
       " 'Turks and Caicos Islands',\n",
       " 'Serbia',\n",
       " 'New Caledonia',\n",
       " 'Montenegro',\n",
       " 'Timor-Leste',\n",
       " 'Comoros',\n",
       " 'Chinese Taipei',\n",
       " 'Curaçao',\n",
       " 'South Sudan',\n",
       " 'Kosovo',\n",
       " 'Gibraltar']"
      ]
     },
     "execution_count": 63,
     "metadata": {},
     "output_type": "execute_result"
    }
   ],
   "source": [
    "teams = sport_data['home_team'].unique().tolist()\n",
    "teams"
   ]
  },
  {
   "cell_type": "code",
   "execution_count": 64,
   "metadata": {},
   "outputs": [
    {
     "data": {
      "text/plain": [
       "211"
      ]
     },
     "execution_count": 64,
     "metadata": {},
     "output_type": "execute_result"
    }
   ],
   "source": [
    "len(teams)\n"
   ]
  },
  {
   "cell_type": "code",
   "execution_count": 65,
   "metadata": {},
   "outputs": [
    {
     "data": {
      "text/plain": [
       "home_team\n",
       "Afghanistan        36\n",
       "Albania           131\n",
       "Algeria           159\n",
       "American Samoa     17\n",
       "Andorra            97\n",
       "                 ... \n",
       "Vietnam           120\n",
       "Wales             129\n",
       "Yemen              87\n",
       "Zambia            180\n",
       "Zimbabwe          135\n",
       "Name: home_team_result, Length: 211, dtype: int64"
      ]
     },
     "execution_count": 65,
     "metadata": {},
     "output_type": "execute_result"
    }
   ],
   "source": [
    "sport_data['home_team_result'].groupby(sport_data['home_team']).count()\n"
   ]
  },
  {
   "cell_type": "code",
   "execution_count": 86,
   "metadata": {},
   "outputs": [
    {
     "ename": "KeyError",
     "evalue": "\"None of [Index(['Bolivia', 'Brazil', 'Ecuador', 'Guinea', 'Paraguay', 'Peru',\\n       'Zimbabwe', 'Guinea', 'Faroe Islands', 'Sweden',\\n       ...\\n       'Ukraine', 'Bosnia and Herzegovina', 'Romania', 'Luxembourg', 'Turkey',\\n       'Moldova', 'Liechtenstein', 'Chile', 'Japan', 'Korea Republic'],\\n      dtype='object', length=23921)] are in the [columns]\"",
     "output_type": "error",
     "traceback": [
      "\u001b[0;31m---------------------------------------------------------------------------\u001b[0m",
      "\u001b[0;31mKeyError\u001b[0m                                  Traceback (most recent call last)",
      "Cell \u001b[0;32mIn [86], line 6\u001b[0m\n\u001b[1;32m      3\u001b[0m teams \u001b[39m=\u001b[39m sport_data[\u001b[39m'\u001b[39m\u001b[39mhome_team\u001b[39m\u001b[39m'\u001b[39m]\u001b[39m.\u001b[39munique()\u001b[39m.\u001b[39mtolist()\n\u001b[1;32m      5\u001b[0m \u001b[39mfor\u001b[39;00m x \u001b[39min\u001b[39;00m teams : \n\u001b[0;32m----> 6\u001b[0m     \u001b[39mwhile\u001b[39;00m ((x \u001b[39m==\u001b[39m sport_data[sport_data[\u001b[39m'\u001b[39;49m\u001b[39mhome_team\u001b[39;49m\u001b[39m'\u001b[39;49m]]) \u001b[39mand\u001b[39;00m (sport_data[sport_data[\u001b[39m'\u001b[39m\u001b[39mhome_team_result\u001b[39m\u001b[39m'\u001b[39m]] \u001b[39m==\u001b[39m \u001b[39m'\u001b[39m\u001b[39mWin\u001b[39m\u001b[39m'\u001b[39m)) \u001b[39mor\u001b[39;00m ((x \u001b[39m==\u001b[39m sport_data[sport_data[\u001b[39m'\u001b[39m\u001b[39maway_team\u001b[39m\u001b[39m'\u001b[39m]]) \u001b[39mand\u001b[39;00m (sport_data[sport_data[\u001b[39m'\u001b[39m\u001b[39mhome_team_result\u001b[39m\u001b[39m'\u001b[39m]] \u001b[39m==\u001b[39m \u001b[39m\"\u001b[39m\u001b[39mLost\u001b[39m\u001b[39m\"\u001b[39m)):\n\u001b[1;32m      7\u001b[0m         cmp \u001b[39m=\u001b[39m cmp\u001b[39m+\u001b[39m\u001b[39m1\u001b[39m\n\u001b[1;32m      9\u001b[0m     \u001b[39m#print(\"Le pays\" + x +\"est a gagné\" + cmp + \"matchs d'affilé\")\u001b[39;00m\n",
      "File \u001b[0;32m/Library/Frameworks/Python.framework/Versions/3.10/lib/python3.10/site-packages/pandas/core/frame.py:3810\u001b[0m, in \u001b[0;36mDataFrame.__getitem__\u001b[0;34m(self, key)\u001b[0m\n\u001b[1;32m   3808\u001b[0m     \u001b[39mif\u001b[39;00m is_iterator(key):\n\u001b[1;32m   3809\u001b[0m         key \u001b[39m=\u001b[39m \u001b[39mlist\u001b[39m(key)\n\u001b[0;32m-> 3810\u001b[0m     indexer \u001b[39m=\u001b[39m \u001b[39mself\u001b[39;49m\u001b[39m.\u001b[39;49mcolumns\u001b[39m.\u001b[39;49m_get_indexer_strict(key, \u001b[39m\"\u001b[39;49m\u001b[39mcolumns\u001b[39;49m\u001b[39m\"\u001b[39;49m)[\u001b[39m1\u001b[39m]\n\u001b[1;32m   3812\u001b[0m \u001b[39m# take() does not accept boolean indexers\u001b[39;00m\n\u001b[1;32m   3813\u001b[0m \u001b[39mif\u001b[39;00m \u001b[39mgetattr\u001b[39m(indexer, \u001b[39m\"\u001b[39m\u001b[39mdtype\u001b[39m\u001b[39m\"\u001b[39m, \u001b[39mNone\u001b[39;00m) \u001b[39m==\u001b[39m \u001b[39mbool\u001b[39m:\n",
      "File \u001b[0;32m/Library/Frameworks/Python.framework/Versions/3.10/lib/python3.10/site-packages/pandas/core/indexes/base.py:6111\u001b[0m, in \u001b[0;36mIndex._get_indexer_strict\u001b[0;34m(self, key, axis_name)\u001b[0m\n\u001b[1;32m   6108\u001b[0m \u001b[39melse\u001b[39;00m:\n\u001b[1;32m   6109\u001b[0m     keyarr, indexer, new_indexer \u001b[39m=\u001b[39m \u001b[39mself\u001b[39m\u001b[39m.\u001b[39m_reindex_non_unique(keyarr)\n\u001b[0;32m-> 6111\u001b[0m \u001b[39mself\u001b[39;49m\u001b[39m.\u001b[39;49m_raise_if_missing(keyarr, indexer, axis_name)\n\u001b[1;32m   6113\u001b[0m keyarr \u001b[39m=\u001b[39m \u001b[39mself\u001b[39m\u001b[39m.\u001b[39mtake(indexer)\n\u001b[1;32m   6114\u001b[0m \u001b[39mif\u001b[39;00m \u001b[39misinstance\u001b[39m(key, Index):\n\u001b[1;32m   6115\u001b[0m     \u001b[39m# GH 42790 - Preserve name from an Index\u001b[39;00m\n",
      "File \u001b[0;32m/Library/Frameworks/Python.framework/Versions/3.10/lib/python3.10/site-packages/pandas/core/indexes/base.py:6171\u001b[0m, in \u001b[0;36mIndex._raise_if_missing\u001b[0;34m(self, key, indexer, axis_name)\u001b[0m\n\u001b[1;32m   6169\u001b[0m     \u001b[39mif\u001b[39;00m use_interval_msg:\n\u001b[1;32m   6170\u001b[0m         key \u001b[39m=\u001b[39m \u001b[39mlist\u001b[39m(key)\n\u001b[0;32m-> 6171\u001b[0m     \u001b[39mraise\u001b[39;00m \u001b[39mKeyError\u001b[39;00m(\u001b[39mf\u001b[39m\u001b[39m\"\u001b[39m\u001b[39mNone of [\u001b[39m\u001b[39m{\u001b[39;00mkey\u001b[39m}\u001b[39;00m\u001b[39m] are in the [\u001b[39m\u001b[39m{\u001b[39;00maxis_name\u001b[39m}\u001b[39;00m\u001b[39m]\u001b[39m\u001b[39m\"\u001b[39m)\n\u001b[1;32m   6173\u001b[0m not_found \u001b[39m=\u001b[39m \u001b[39mlist\u001b[39m(ensure_index(key)[missing_mask\u001b[39m.\u001b[39mnonzero()[\u001b[39m0\u001b[39m]]\u001b[39m.\u001b[39munique())\n\u001b[1;32m   6174\u001b[0m \u001b[39mraise\u001b[39;00m \u001b[39mKeyError\u001b[39;00m(\u001b[39mf\u001b[39m\u001b[39m\"\u001b[39m\u001b[39m{\u001b[39;00mnot_found\u001b[39m}\u001b[39;00m\u001b[39m not in index\u001b[39m\u001b[39m\"\u001b[39m)\n",
      "\u001b[0;31mKeyError\u001b[0m: \"None of [Index(['Bolivia', 'Brazil', 'Ecuador', 'Guinea', 'Paraguay', 'Peru',\\n       'Zimbabwe', 'Guinea', 'Faroe Islands', 'Sweden',\\n       ...\\n       'Ukraine', 'Bosnia and Herzegovina', 'Romania', 'Luxembourg', 'Turkey',\\n       'Moldova', 'Liechtenstein', 'Chile', 'Japan', 'Korea Republic'],\\n      dtype='object', length=23921)] are in the [columns]\""
     ]
    }
   ],
   "source": [
    "cmp = 0 \n",
    "winning_streak = []\n",
    "teams = sport_data['home_team'].unique().tolist()\n",
    "\n",
    "for x in teams : \n",
    "    while ((x == sport_data.iloc[i,1]) and (sport_data[sport_data['home_team_result']] == 'Win')) or ((x == sport_data[sport_data['away_team']]) and (sport_data[sport_data['home_team_result']] == \"Lost\")):\n",
    "        cmp = cmp+1\n",
    "        \n",
    "    #print(\"Le pays\" + x +\"est a gagné\" + cmp + \"matchs d'affilé\")\n",
    "    winning_streak.append(cmp)"
   ]
  },
  {
   "cell_type": "code",
   "execution_count": 104,
   "metadata": {},
   "outputs": [
    {
     "name": "stdout",
     "output_type": "stream",
     "text": [
      "La Paz\n"
     ]
    }
   ],
   "source": [
    "print(sport_data.iloc[0,12])"
   ]
  },
  {
   "cell_type": "code",
   "execution_count": 105,
   "metadata": {},
   "outputs": [],
   "source": [
    "# creer une autre boucle qui regarde ligne par ligne (un for plutot que while)\n",
    "# a l'interieur de cette deuxieme boucle , je fais un if qui a un home_team qui correspond avec x dans teams \n",
    "# deuxieme if pour ls pays a l'exterieur si \n",
    "# else if si le home team \n",
    "# stocker dans une liste tous les cmp de chaque equipe\n",
    "# stocker tous les max cmp de tous les pays pour avoir le max de chacun des pays\n",
    "# reinitialiser la premiere liste "
   ]
  },
  {
   "cell_type": "code",
   "execution_count": null,
   "metadata": {},
   "outputs": [],
   "source": []
  }
 ],
 "metadata": {
  "kernelspec": {
   "display_name": "Python 3.10.1 64-bit",
   "language": "python",
   "name": "python3"
  },
  "language_info": {
   "codemirror_mode": {
    "name": "ipython",
    "version": 3
   },
   "file_extension": ".py",
   "mimetype": "text/x-python",
   "name": "python",
   "nbconvert_exporter": "python",
   "pygments_lexer": "ipython3",
   "version": "3.10.1"
  },
  "orig_nbformat": 4,
  "vscode": {
   "interpreter": {
    "hash": "aee8b7b246df8f9039afb4144a1f6fd8d2ca17a180786b69acc140d282b71a49"
   }
  }
 },
 "nbformat": 4,
 "nbformat_minor": 2
}
